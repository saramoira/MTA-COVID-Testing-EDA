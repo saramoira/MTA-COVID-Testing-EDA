{
 "cells": [
  {
   "cell_type": "markdown",
   "id": "1c2a4e7d",
   "metadata": {},
   "source": [
    "This document outlines the process for importing data and basic data cleaning that I followed for this project. Initial cleaning examples are done on a smaller dataframe to save processing time.\n",
    "\n",
    "## Importing data into my database\n",
    "\n",
    "#### Importing the MTA Turnstile data:\n",
    "\n",
    "Step 1: Run `python get_mta_turnstiles.py \"(19|20|21|22)\"` in terminal to get the turnstile data. \n",
    "\n",
    "I wanted all of the data from 2019-2021 in my database, so I included 22 in the regex to make sure I got everything from 2021 (since the last few days of 2021 were included in the first upload in 2022). I could have been more specific here, but this worked for my purposes. \n",
    "\n",
    "#### Importing the MTA Fare data:\n",
    "\n",
    "Note: due to formatting differences in the MTA Fare data, I had to modify the get_mta.py file and split it into get_mta_fares.py and get_mta_fares_old.py.\n",
    "\n",
    "Step 1: Run `python get_mta_fares_new.py \"(20|21|22)\"` to get the bulk of the new format of MTA fare data.\n",
    "\n",
    "Step 2: Run `python get_mta_fares_old.py \"19\"` to get the remaining MTA fare data for 2019.\n",
    "\n",
    "#### Importing the MTA Turnstiles Remote-Complex Lookup:\n",
    "\n",
    "I found a hand-built resource from Chris Whong that matches MTA station data found at `http://web.mta.info/developers/data/nyct/subway/Stations.csv` to the fields in the turnstile dataset. "
   ]
  },
  {
   "cell_type": "code",
   "execution_count": 221,
   "id": "4854b744",
   "metadata": {},
   "outputs": [],
   "source": [
    "reset -fs"
   ]
  },
  {
   "cell_type": "code",
   "execution_count": 222,
   "id": "28be56df",
   "metadata": {},
   "outputs": [],
   "source": [
    "import pandas as pd\n",
    "import datetime as dt\n",
    "import sqlite3\n",
    "from sqlalchemy import create_engine\n",
    "\n",
    "engine = create_engine('sqlite:///database/mta_data.db')"
   ]
  },
  {
   "cell_type": "code",
   "execution_count": 223,
   "id": "b2bb4cce",
   "metadata": {},
   "outputs": [
    {
     "data": {
      "text/html": [
       "<div>\n",
       "<style scoped>\n",
       "    .dataframe tbody tr th:only-of-type {\n",
       "        vertical-align: middle;\n",
       "    }\n",
       "\n",
       "    .dataframe tbody tr th {\n",
       "        vertical-align: top;\n",
       "    }\n",
       "\n",
       "    .dataframe thead th {\n",
       "        text-align: right;\n",
       "    }\n",
       "</style>\n",
       "<table border=\"1\" class=\"dataframe\">\n",
       "  <thead>\n",
       "    <tr style=\"text-align: right;\">\n",
       "      <th></th>\n",
       "      <th>REMOTE</th>\n",
       "      <th>BOOTH</th>\n",
       "      <th>COMPLEX_ID</th>\n",
       "      <th>STATION</th>\n",
       "      <th>LINE_NAME</th>\n",
       "      <th>DIVISION</th>\n",
       "    </tr>\n",
       "  </thead>\n",
       "  <tbody>\n",
       "    <tr>\n",
       "      <th>0</th>\n",
       "      <td>R001</td>\n",
       "      <td>A060</td>\n",
       "      <td>635.0</td>\n",
       "      <td>WHITEHALL ST</td>\n",
       "      <td>R1</td>\n",
       "      <td>BMT</td>\n",
       "    </tr>\n",
       "    <tr>\n",
       "      <th>1</th>\n",
       "      <td>R001</td>\n",
       "      <td>A058</td>\n",
       "      <td>635.0</td>\n",
       "      <td>WHITEHALL ST</td>\n",
       "      <td>R1</td>\n",
       "      <td>BMT</td>\n",
       "    </tr>\n",
       "    <tr>\n",
       "      <th>2</th>\n",
       "      <td>R001</td>\n",
       "      <td>R101S</td>\n",
       "      <td>635.0</td>\n",
       "      <td>SOUTH FERRY</td>\n",
       "      <td>R1</td>\n",
       "      <td>IRT</td>\n",
       "    </tr>\n",
       "    <tr>\n",
       "      <th>3</th>\n",
       "      <td>R002</td>\n",
       "      <td>A077</td>\n",
       "      <td>628.0</td>\n",
       "      <td>FULTON ST</td>\n",
       "      <td>ACJZ2345</td>\n",
       "      <td>BMT</td>\n",
       "    </tr>\n",
       "    <tr>\n",
       "      <th>4</th>\n",
       "      <td>R002</td>\n",
       "      <td>A081</td>\n",
       "      <td>628.0</td>\n",
       "      <td>FULTON ST</td>\n",
       "      <td>ACJZ2345</td>\n",
       "      <td>BMT</td>\n",
       "    </tr>\n",
       "  </tbody>\n",
       "</table>\n",
       "</div>"
      ],
      "text/plain": [
       "  REMOTE  BOOTH  COMPLEX_ID       STATION LINE_NAME DIVISION\n",
       "0   R001   A060       635.0  WHITEHALL ST        R1      BMT\n",
       "1   R001   A058       635.0  WHITEHALL ST        R1      BMT\n",
       "2   R001  R101S       635.0   SOUTH FERRY        R1      IRT\n",
       "3   R002   A077       628.0     FULTON ST  ACJZ2345      BMT\n",
       "4   R002   A081       628.0     FULTON ST  ACJZ2345      BMT"
      ]
     },
     "execution_count": 223,
     "metadata": {},
     "output_type": "execute_result"
    }
   ],
   "source": [
    "remote_lookup_df = pd.read_csv('database/mta_remote_lookup.csv')\n",
    "remote_lookup_df.columns = [column.strip().upper() for column in remote_lookup_df.columns]\n",
    "remote_lookup_df.head()"
   ]
  },
  {
   "cell_type": "code",
   "execution_count": 224,
   "id": "146e078b",
   "metadata": {},
   "outputs": [
    {
     "data": {
      "text/html": [
       "<div>\n",
       "<style scoped>\n",
       "    .dataframe tbody tr th:only-of-type {\n",
       "        vertical-align: middle;\n",
       "    }\n",
       "\n",
       "    .dataframe tbody tr th {\n",
       "        vertical-align: top;\n",
       "    }\n",
       "\n",
       "    .dataframe thead th {\n",
       "        text-align: right;\n",
       "    }\n",
       "</style>\n",
       "<table border=\"1\" class=\"dataframe\">\n",
       "  <thead>\n",
       "    <tr style=\"text-align: right;\">\n",
       "      <th></th>\n",
       "      <th>REMOTE</th>\n",
       "      <th>BOOTH</th>\n",
       "      <th>COMPLEX_ID</th>\n",
       "      <th>STATION</th>\n",
       "      <th>LINE_NAME</th>\n",
       "      <th>DIVISION</th>\n",
       "    </tr>\n",
       "  </thead>\n",
       "  <tbody>\n",
       "    <tr>\n",
       "      <th>0</th>\n",
       "      <td>R001</td>\n",
       "      <td>A060</td>\n",
       "      <td>635.0</td>\n",
       "      <td>WHITEHALL ST</td>\n",
       "      <td>R1</td>\n",
       "      <td>BMT</td>\n",
       "    </tr>\n",
       "    <tr>\n",
       "      <th>1</th>\n",
       "      <td>R001</td>\n",
       "      <td>A058</td>\n",
       "      <td>635.0</td>\n",
       "      <td>WHITEHALL ST</td>\n",
       "      <td>R1</td>\n",
       "      <td>BMT</td>\n",
       "    </tr>\n",
       "    <tr>\n",
       "      <th>2</th>\n",
       "      <td>R001</td>\n",
       "      <td>R101S</td>\n",
       "      <td>635.0</td>\n",
       "      <td>SOUTH FERRY</td>\n",
       "      <td>R1</td>\n",
       "      <td>IRT</td>\n",
       "    </tr>\n",
       "    <tr>\n",
       "      <th>3</th>\n",
       "      <td>R002</td>\n",
       "      <td>A077</td>\n",
       "      <td>628.0</td>\n",
       "      <td>FULTON ST</td>\n",
       "      <td>ACJZ2345</td>\n",
       "      <td>BMT</td>\n",
       "    </tr>\n",
       "    <tr>\n",
       "      <th>4</th>\n",
       "      <td>R002</td>\n",
       "      <td>A081</td>\n",
       "      <td>628.0</td>\n",
       "      <td>FULTON ST</td>\n",
       "      <td>ACJZ2345</td>\n",
       "      <td>BMT</td>\n",
       "    </tr>\n",
       "  </tbody>\n",
       "</table>\n",
       "</div>"
      ],
      "text/plain": [
       "  REMOTE  BOOTH  COMPLEX_ID       STATION LINE_NAME DIVISION\n",
       "0   R001   A060       635.0  WHITEHALL ST        R1      BMT\n",
       "1   R001   A058       635.0  WHITEHALL ST        R1      BMT\n",
       "2   R001  R101S       635.0   SOUTH FERRY        R1      IRT\n",
       "3   R002   A077       628.0     FULTON ST  ACJZ2345      BMT\n",
       "4   R002   A081       628.0     FULTON ST  ACJZ2345      BMT"
      ]
     },
     "execution_count": 224,
     "metadata": {},
     "output_type": "execute_result"
    }
   ],
   "source": [
    "# strip whitespace from entries - just to be on the safe side\n",
    "lookup = (['REMOTE', \n",
    "             'BOOTH', \n",
    "             'COMPLEX_ID', \n",
    "             'STATION', \n",
    "             'LINE_NAME', \n",
    "             'DIVISION'])\n",
    "(remote_lookup_df[lookup].str.strip() for column in lookup)\n",
    "remote_lookup_df.head()"
   ]
  },
  {
   "cell_type": "code",
   "execution_count": 225,
   "id": "e2e09e09",
   "metadata": {},
   "outputs": [
    {
     "data": {
      "text/plain": [
       "0      635.0\n",
       "1      635.0\n",
       "2      635.0\n",
       "3      628.0\n",
       "4      628.0\n",
       "       ...  \n",
       "771    477.0\n",
       "772    476.0\n",
       "773    476.0\n",
       "774    475.0\n",
       "775    475.0\n",
       "Name: COMPLEX_ID, Length: 776, dtype: float64"
      ]
     },
     "execution_count": 225,
     "metadata": {},
     "output_type": "execute_result"
    }
   ],
   "source": [
    "remote_lookup_df.COMPLEX_ID"
   ]
  },
  {
   "cell_type": "code",
   "execution_count": 277,
   "id": "099e653b",
   "metadata": {},
   "outputs": [
    {
     "data": {
      "text/plain": [
       "0      R001\n",
       "1      R001\n",
       "2      R001\n",
       "3      R002\n",
       "4      R002\n",
       "       ... \n",
       "771    R570\n",
       "772    R571\n",
       "773    R571\n",
       "774    R572\n",
       "775    R572\n",
       "Name: REMOTE, Length: 776, dtype: object"
      ]
     },
     "execution_count": 277,
     "metadata": {},
     "output_type": "execute_result"
    }
   ],
   "source": [
    "remote_lookup_df['REMOTE'] = remote_lookup_df['REMOTE'].astype(object)\n",
    "remote_lookup_df['BOOTH'] = remote_lookup_df['BOOTH'].astype(object)\n",
    "remote_lookup_df['COMPLEX_ID'] = remote_lookup_df['COMPLEX_ID'].astype(object)\n",
    "remote_lookup_df['STATION'] = remote_lookup_df['STATION'].astype(object)\n",
    "remote_lookup_df['LINE_NAME'] = remote_lookup_df['LINE_NAME'].astype(object)\n",
    "remote_lookup_df['DIVISION'] = remote_lookup_df['DIVISION'].astype(object)\n",
    "remote_lookup_df.REMOTE"
   ]
  },
  {
   "cell_type": "code",
   "execution_count": 278,
   "id": "89d77c67",
   "metadata": {},
   "outputs": [],
   "source": [
    "#remote_lookup_df.to_sql('remote_lookup',engine)"
   ]
  },
  {
   "cell_type": "markdown",
   "id": "73407b80",
   "metadata": {},
   "source": [
    "## Processing Fare Data\n",
    "\n",
    "In order to get one table containing all fare types, including discontinued ones, I ran this:"
   ]
  },
  {
   "cell_type": "code",
   "execution_count": 396,
   "id": "7e50c05f",
   "metadata": {},
   "outputs": [
    {
     "data": {
      "text/html": [
       "<div>\n",
       "<style scoped>\n",
       "    .dataframe tbody tr th:only-of-type {\n",
       "        vertical-align: middle;\n",
       "    }\n",
       "\n",
       "    .dataframe tbody tr th {\n",
       "        vertical-align: top;\n",
       "    }\n",
       "\n",
       "    .dataframe thead th {\n",
       "        text-align: right;\n",
       "    }\n",
       "</style>\n",
       "<table border=\"1\" class=\"dataframe\">\n",
       "  <thead>\n",
       "    <tr style=\"text-align: right;\">\n",
       "      <th></th>\n",
       "      <th>REMOTE</th>\n",
       "      <th>STATION</th>\n",
       "      <th>START_DATE</th>\n",
       "      <th>END_DATE</th>\n",
       "      <th>FF</th>\n",
       "      <th>SEN/DIS</th>\n",
       "      <th>7-D AFAS UNL</th>\n",
       "      <th>30-D AFAS/RMF UNL</th>\n",
       "      <th>JOINT RR TKT</th>\n",
       "      <th>7-D UNL</th>\n",
       "      <th>...</th>\n",
       "      <th>AIRTRAIN 30-D</th>\n",
       "      <th>AIRTRAIN 10-T</th>\n",
       "      <th>AIRTRAIN MTHLY</th>\n",
       "      <th>STUDENTS</th>\n",
       "      <th>NICE 2-T</th>\n",
       "      <th>CUNY-120</th>\n",
       "      <th>CUNY-60</th>\n",
       "      <th>FF VALUE</th>\n",
       "      <th>FF 7-DAY</th>\n",
       "      <th>FF 30-DAY</th>\n",
       "    </tr>\n",
       "  </thead>\n",
       "  <tbody>\n",
       "    <tr>\n",
       "      <th>0</th>\n",
       "      <td>R001</td>\n",
       "      <td>WHITEHALL STREET</td>\n",
       "      <td>2019-03-23 00:00:00</td>\n",
       "      <td>2019-03-29 00:00:00</td>\n",
       "      <td>66184</td>\n",
       "      <td>3108</td>\n",
       "      <td>460</td>\n",
       "      <td>1143</td>\n",
       "      <td>227</td>\n",
       "      <td>32448</td>\n",
       "      <td>...</td>\n",
       "      <td>0</td>\n",
       "      <td>0</td>\n",
       "      <td>0</td>\n",
       "      <td>3512</td>\n",
       "      <td>0</td>\n",
       "      <td>858</td>\n",
       "      <td>0</td>\n",
       "      <td>0</td>\n",
       "      <td>0</td>\n",
       "      <td>0</td>\n",
       "    </tr>\n",
       "    <tr>\n",
       "      <th>1</th>\n",
       "      <td>R003</td>\n",
       "      <td>CYPRESS HILLS</td>\n",
       "      <td>2019-03-23 00:00:00</td>\n",
       "      <td>2019-03-29 00:00:00</td>\n",
       "      <td>2653</td>\n",
       "      <td>181</td>\n",
       "      <td>8</td>\n",
       "      <td>44</td>\n",
       "      <td>0</td>\n",
       "      <td>2078</td>\n",
       "      <td>...</td>\n",
       "      <td>0</td>\n",
       "      <td>0</td>\n",
       "      <td>0</td>\n",
       "      <td>897</td>\n",
       "      <td>0</td>\n",
       "      <td>81</td>\n",
       "      <td>0</td>\n",
       "      <td>0</td>\n",
       "      <td>0</td>\n",
       "      <td>0</td>\n",
       "    </tr>\n",
       "    <tr>\n",
       "      <th>2</th>\n",
       "      <td>R004</td>\n",
       "      <td>75TH STREET &amp; ELDERTS LANE</td>\n",
       "      <td>2019-03-23 00:00:00</td>\n",
       "      <td>2019-03-29 00:00:00</td>\n",
       "      <td>5952</td>\n",
       "      <td>390</td>\n",
       "      <td>42</td>\n",
       "      <td>115</td>\n",
       "      <td>0</td>\n",
       "      <td>4195</td>\n",
       "      <td>...</td>\n",
       "      <td>0</td>\n",
       "      <td>0</td>\n",
       "      <td>0</td>\n",
       "      <td>3138</td>\n",
       "      <td>0</td>\n",
       "      <td>96</td>\n",
       "      <td>0</td>\n",
       "      <td>0</td>\n",
       "      <td>0</td>\n",
       "      <td>0</td>\n",
       "    </tr>\n",
       "    <tr>\n",
       "      <th>3</th>\n",
       "      <td>R005</td>\n",
       "      <td>85TH STREET &amp; FOREST PKWAY</td>\n",
       "      <td>2019-03-23 00:00:00</td>\n",
       "      <td>2019-03-29 00:00:00</td>\n",
       "      <td>7000</td>\n",
       "      <td>564</td>\n",
       "      <td>40</td>\n",
       "      <td>144</td>\n",
       "      <td>1</td>\n",
       "      <td>4220</td>\n",
       "      <td>...</td>\n",
       "      <td>0</td>\n",
       "      <td>0</td>\n",
       "      <td>0</td>\n",
       "      <td>1666</td>\n",
       "      <td>0</td>\n",
       "      <td>165</td>\n",
       "      <td>0</td>\n",
       "      <td>0</td>\n",
       "      <td>0</td>\n",
       "      <td>0</td>\n",
       "    </tr>\n",
       "    <tr>\n",
       "      <th>4</th>\n",
       "      <td>R006</td>\n",
       "      <td>WOODHAVEN BOULEVARD</td>\n",
       "      <td>2019-03-23 00:00:00</td>\n",
       "      <td>2019-03-29 00:00:00</td>\n",
       "      <td>6712</td>\n",
       "      <td>481</td>\n",
       "      <td>60</td>\n",
       "      <td>168</td>\n",
       "      <td>0</td>\n",
       "      <td>6019</td>\n",
       "      <td>...</td>\n",
       "      <td>0</td>\n",
       "      <td>0</td>\n",
       "      <td>0</td>\n",
       "      <td>2120</td>\n",
       "      <td>0</td>\n",
       "      <td>178</td>\n",
       "      <td>0</td>\n",
       "      <td>0</td>\n",
       "      <td>0</td>\n",
       "      <td>0</td>\n",
       "    </tr>\n",
       "  </tbody>\n",
       "</table>\n",
       "<p>5 rows × 33 columns</p>\n",
       "</div>"
      ],
      "text/plain": [
       "  REMOTE                         STATION           START_DATE  \\\n",
       "0   R001  WHITEHALL STREET                2019-03-23 00:00:00   \n",
       "1   R003  CYPRESS HILLS                   2019-03-23 00:00:00   \n",
       "2   R004  75TH STREET & ELDERTS LANE      2019-03-23 00:00:00   \n",
       "3   R005  85TH STREET & FOREST PKWAY      2019-03-23 00:00:00   \n",
       "4   R006  WOODHAVEN BOULEVARD             2019-03-23 00:00:00   \n",
       "\n",
       "              END_DATE     FF  SEN/DIS  7-D AFAS UNL  30-D AFAS/RMF UNL  \\\n",
       "0  2019-03-29 00:00:00  66184     3108           460               1143   \n",
       "1  2019-03-29 00:00:00   2653      181             8                 44   \n",
       "2  2019-03-29 00:00:00   5952      390            42                115   \n",
       "3  2019-03-29 00:00:00   7000      564            40                144   \n",
       "4  2019-03-29 00:00:00   6712      481            60                168   \n",
       "\n",
       "   JOINT RR TKT  7-D UNL  ...  AIRTRAIN 30-D AIRTRAIN 10-T AIRTRAIN MTHLY  \\\n",
       "0           227    32448  ...              0             0              0   \n",
       "1             0     2078  ...              0             0              0   \n",
       "2             0     4195  ...              0             0              0   \n",
       "3             1     4220  ...              0             0              0   \n",
       "4             0     6019  ...              0             0              0   \n",
       "\n",
       "  STUDENTS  NICE 2-T  CUNY-120  CUNY-60  FF VALUE  FF 7-DAY  FF 30-DAY  \n",
       "0     3512         0       858        0         0         0          0  \n",
       "1      897         0        81        0         0         0          0  \n",
       "2     3138         0        96        0         0         0          0  \n",
       "3     1666         0       165        0         0         0          0  \n",
       "4     2120         0       178        0         0         0          0  \n",
       "\n",
       "[5 rows x 33 columns]"
      ]
     },
     "execution_count": 396,
     "metadata": {},
     "output_type": "execute_result"
    }
   ],
   "source": [
    "fare_data_df = pd.read_sql('''SELECT [REMOTE], [STATION], [START_DATE], [END_DATE], [FF], [SEN/DIS], \n",
    "                            [7-D AFAS UNL], [30-D AFAS/RMF UNL], [JOINT RR TKT], [7-D UNL], [30-D UNL], \n",
    "                            [14-D RFM UNL], [1-D UNL], [14-D UNL], [7D-XBUS PASS], [TCMC], [RF 2 TRIP], \n",
    "                            [RR UNL NO TRADE], [TCMC ANNUAL MC], [MR EZPAY EXP], [MR EZPAY UNL], \n",
    "                            [PATH 2-T], [AIRTRAIN FF], [AIRTRAIN 30-D], [AIRTRAIN 10-T], \n",
    "                            [AIRTRAIN MTHLY], [STUDENTS], [NICE 2-T], [CUNY-120],[CUNY-60], \n",
    "                            '0' as [FF VALUE], '0' as [FF 7-DAY], '0' as [FF 30-DAY]\n",
    "                         FROM mta_fare_data_old\n",
    "                         UNION ALL\n",
    "                         SELECT [REMOTE], [STATION], [START_DATE], [END_DATE], [FF], [SEN/DIS], \n",
    "                         [7-D AFAS UNL], [30-D AFAS/RMF UNL], [JOINT RR TKT], [7-D UNL], [30-D UNL], \n",
    "                         '0' as [14-D RFM UNL], '0' as [1-D UNL], '0' as [14-D UNL], \n",
    "                         [7D-XBUS PASS], [TCMC], [RF 2 TRIP], [RR UNL NO TRADE], [TCMC ANNUAL MC], \n",
    "                         [MR EZPAY EXP], [MR EZPAY UNL], [PATH 2-T], [AIRTRAIN FF], [AIRTRAIN 30-D], \n",
    "                         [AIRTRAIN 10-T], [AIRTRAIN MTHLY], [STUDENTS], [NICE 2-T], [CUNY-120], [CUNY-60], \n",
    "                         [FF VALUE], [FF 7-DAY], [FF 30-DAY]\n",
    "                         FROM mta_fare_data_new;''', engine)\n",
    "fare_data_df.head()"
   ]
  },
  {
   "cell_type": "markdown",
   "id": "4076620a",
   "metadata": {},
   "source": [
    "Note that this query creates new columns in each of the tables to match the missing fare types from the other and sets the values to zero. The UNION ALL command is used to combine into one table. The SQL query is pretty clunky, but it gets the job done. I then strip the trailing whitespace from the entries in the STATION column and add the table to my database:"
   ]
  },
  {
   "cell_type": "code",
   "execution_count": 397,
   "id": "97651fd7",
   "metadata": {},
   "outputs": [
    {
     "data": {
      "text/plain": [
       "Index(['REMOTE', 'STATION', 'START_DATE', 'END_DATE', 'FF', 'SEN/DIS',\n",
       "       '7-D AFAS UNL', '30-D AFAS/RMF UNL', 'JOINT RR TKT', '7-D UNL',\n",
       "       '30-D UNL', '14-D RFM UNL', '1-D UNL', '14-D UNL', '7D-XBUS PASS',\n",
       "       'TCMC', 'RF 2 TRIP', 'RR UNL NO TRADE', 'TCMC ANNUAL MC',\n",
       "       'MR EZPAY EXP', 'MR EZPAY UNL', 'PATH 2-T', 'AIRTRAIN FF',\n",
       "       'AIRTRAIN 30-D', 'AIRTRAIN 10-T', 'AIRTRAIN MTHLY', 'STUDENTS',\n",
       "       'NICE 2-T', 'CUNY-120', 'CUNY-60', 'FF VALUE', 'FF 7-DAY', 'FF 30-DAY'],\n",
       "      dtype='object')"
      ]
     },
     "execution_count": 397,
     "metadata": {},
     "output_type": "execute_result"
    }
   ],
   "source": [
    "fare_data_df['STATION'] = fare_data_df['STATION'].str.strip()\n",
    "fare_data_df.columns"
   ]
  },
  {
   "cell_type": "code",
   "execution_count": 398,
   "id": "81b937f4",
   "metadata": {},
   "outputs": [],
   "source": [
    "#fare_data_df.to_sql('fare_data_total',engine)\n"
   ]
  },
  {
   "cell_type": "code",
   "execution_count": 399,
   "id": "093929cc",
   "metadata": {},
   "outputs": [
    {
     "data": {
      "text/plain": [
       "(76063, 33)"
      ]
     },
     "execution_count": 399,
     "metadata": {},
     "output_type": "execute_result"
    }
   ],
   "source": [
    "fare_data_df.shape"
   ]
  },
  {
   "cell_type": "code",
   "execution_count": 400,
   "id": "524c7197",
   "metadata": {},
   "outputs": [],
   "source": [
    "# remove bus data\n",
    "#bus = ['R553', 'R554', 'R555', 'R556', 'R557', 'R558', 'R559', 'R560', 'R561', 'R562', 'R563', 'R564', 'R565', 'R566', 'R567', 'R568', 'R569', 'R573', 'R574', 'R575'] \n",
    "\n",
    "#fare_data_df = fare_data_df[(fare_data_df.REMOTE != [remove])] \n",
    "\n",
    "#fare_data_df = fare_data_df[~fare_data_df.REMOTE.isin(bus)]\n",
    "#fare_data_df.shape"
   ]
  },
  {
   "cell_type": "markdown",
   "id": "e6f24d00",
   "metadata": {},
   "source": [
    "Then I insert the values from the `remote_lookup_df` into the `fare_data_df` for ease of reference:"
   ]
  },
  {
   "cell_type": "code",
   "execution_count": 401,
   "id": "824b1f5d",
   "metadata": {},
   "outputs": [
    {
     "data": {
      "text/plain": [
       "(76063, 33)"
      ]
     },
     "execution_count": 401,
     "metadata": {},
     "output_type": "execute_result"
    }
   ],
   "source": [
    "fare_data_df.rename(columns={'STATION': 'STOP'}, inplace=True)\n",
    "fare_data_df.shape"
   ]
  },
  {
   "cell_type": "code",
   "execution_count": 402,
   "id": "c24b3b4e",
   "metadata": {},
   "outputs": [],
   "source": [
    "#fare_data_df.insert(1,'BOOTH',0)\n",
    "#fare_data_df.insert(2,'COMPLEX_ID',0)\n",
    "#fare_data_df.insert(3,'STATION',0)\n",
    "#fare_data_df.insert(5,'LINE_NAME',0)\n",
    "#fare_data_df.insert(6,'DIVISION',0)\n",
    "#fare_data_df.shape"
   ]
  },
  {
   "cell_type": "code",
   "execution_count": 403,
   "id": "10eecdfb",
   "metadata": {},
   "outputs": [
    {
     "data": {
      "text/plain": [
       "Index(['REMOTE', 'STOP', 'START_DATE', 'END_DATE', 'FF', 'SEN/DIS',\n",
       "       '7-D AFAS UNL', '30-D AFAS/RMF UNL', 'JOINT RR TKT', '7-D UNL',\n",
       "       '30-D UNL', '14-D RFM UNL', '1-D UNL', '14-D UNL', '7D-XBUS PASS',\n",
       "       'TCMC', 'RF 2 TRIP', 'RR UNL NO TRADE', 'TCMC ANNUAL MC',\n",
       "       'MR EZPAY EXP', 'MR EZPAY UNL', 'PATH 2-T', 'AIRTRAIN FF',\n",
       "       'AIRTRAIN 30-D', 'AIRTRAIN 10-T', 'AIRTRAIN MTHLY', 'STUDENTS',\n",
       "       'NICE 2-T', 'CUNY-120', 'CUNY-60', 'FF VALUE', 'FF 7-DAY', 'FF 30-DAY',\n",
       "       'BOOTH', 'COMPLEX_ID', 'STATION', 'LINE_NAME', 'DIVISION'],\n",
       "      dtype='object')"
      ]
     },
     "execution_count": 403,
     "metadata": {},
     "output_type": "execute_result"
    }
   ],
   "source": [
    "fare_data_df = fare_data_df.merge(remote_lookup_df,on='REMOTE',how=\"left\")\n",
    "fare_data_df.columns"
   ]
  },
  {
   "cell_type": "markdown",
   "id": "b6922c42",
   "metadata": {},
   "source": [
    "### Computing Commuter Percentage\n",
    "\n",
    "I want to know the percentage of likely commuter traffic for each station in this dataset. First I sum the total swipes across all categories:"
   ]
  },
  {
   "cell_type": "code",
   "execution_count": 404,
   "id": "402e7b85",
   "metadata": {},
   "outputs": [
    {
     "name": "stderr",
     "output_type": "stream",
     "text": [
      "/var/folders/_g/0w700wks7s1f9mzvhbcn7vvc0000gn/T/ipykernel_55257/1067136374.py:1: FutureWarning:\n",
      "\n",
      "Dropping of nuisance columns in DataFrame reductions (with 'numeric_only=None') is deprecated; in a future version this will raise TypeError.  Select only valid columns before calling the reduction.\n",
      "\n"
     ]
    },
    {
     "data": {
      "text/plain": [
       "0         159904\n",
       "1         159904\n",
       "2         159904\n",
       "3           7318\n",
       "4          17766\n",
       "           ...  \n",
       "121871    160085\n",
       "121872    116168\n",
       "121873    116168\n",
       "121874      1026\n",
       "121875       711\n",
       "Name: TOTAL, Length: 121876, dtype: int64"
      ]
     },
     "execution_count": 404,
     "metadata": {},
     "output_type": "execute_result"
    }
   ],
   "source": [
    "fare_data_df['TOTAL'] = fare_data_df.iloc[:,4:33].sum(axis=1)\n",
    "fare_data_df['TOTAL']"
   ]
  },
  {
   "cell_type": "markdown",
   "id": "5603590c",
   "metadata": {},
   "source": [
    "Now I want to sum only those columns that I want to use as proxy for commuters. I look at the MTA Field Descriptions on the Fare Data page and compare them to the columns in `fare_data_df`:"
   ]
  },
  {
   "cell_type": "code",
   "execution_count": 405,
   "id": "d3204b96",
   "metadata": {},
   "outputs": [
    {
     "data": {
      "text/plain": [
       "Index(['REMOTE', 'STOP', 'START_DATE', 'END_DATE', 'FF', 'SEN/DIS',\n",
       "       '7-D AFAS UNL', '30-D AFAS/RMF UNL', 'JOINT RR TKT', '7-D UNL',\n",
       "       '30-D UNL', '14-D RFM UNL', '1-D UNL', '14-D UNL', '7D-XBUS PASS',\n",
       "       'TCMC', 'RF 2 TRIP', 'RR UNL NO TRADE', 'TCMC ANNUAL MC',\n",
       "       'MR EZPAY EXP', 'MR EZPAY UNL', 'PATH 2-T', 'AIRTRAIN FF',\n",
       "       'AIRTRAIN 30-D', 'AIRTRAIN 10-T', 'AIRTRAIN MTHLY', 'STUDENTS',\n",
       "       'NICE 2-T', 'CUNY-120', 'CUNY-60', 'FF VALUE', 'FF 7-DAY', 'FF 30-DAY',\n",
       "       'BOOTH', 'COMPLEX_ID', 'STATION', 'LINE_NAME', 'DIVISION', 'TOTAL'],\n",
       "      dtype='object')"
      ]
     },
     "execution_count": 405,
     "metadata": {},
     "output_type": "execute_result"
    }
   ],
   "source": [
    "fare_data_df.columns"
   ]
  },
  {
   "cell_type": "markdown",
   "id": "c97fc987",
   "metadata": {},
   "source": [
    "Field Description for the columns:\\\n",
    "FF = full fare\\\n",
    "SEN/DIS = senior citizen/disabled\\\n",
    "7-D AFAS UNL = 7-day unlimited ADA farecard access system\\\n",
    "30-D AFAS/RFM UNL = 30-day unlimited ADA farecard access system/reduced fare media\\\n",
    "JOINT RR TKT = Joint railroad ticket\\\n",
    "7-D UNL = 7-day unlimited\\\n",
    "30-D UNL = 30-day unlimited\\\n",
    "14-D RFM UNL = 14-day reduced fare media unlimited\\\n",
    "1-D UNL = one day unlimited\\\n",
    "14-D UNL = 14-day unlimited\\\n",
    "7D-XBUS PASS = 7-day express bus pass\\\n",
    "TCMC = Transit check metrocard\\\n",
    "RF 2 TRIP = reduced fare 2 trip\\\n",
    "RR UNL NO TRADE = Railroad unlimited no trade\\\n",
    "TCMC ANNUAL MC = Transit check annual metrocard\\\n",
    "MR EZPAY EXP = Mail and Ride EZ-pay express\\\n",
    "MR EZPAY UNL = Mail and Ride EZ-pay unlimited\\\n",
    "PATH 2-T = PATH train 2-trip\\\n",
    "AIRTRAIN FF = Airtrain full fare\\\n",
    "AIRTRAIN 30-D = Airtrain 30-day\\\n",
    "AIRTRAIN 10-T = Airtrain 10-trip\\\n",
    "AIRTRAIN MTHLY = Airtrain monthly\\\n",
    "STUDENTS = School-age students (non-college)\\\n",
    "NICE 2-T = ?? two-trip card\\\n",
    "CUNY-120 = CUNY community college 120-day\\\n",
    "CUNY-60 = CUNY community college 60-day\\\n",
    "FF VALUE = Fair fares NYC (half price for low-income NYC residents)\\\n",
    "FF 7-DAY = Fair Fares 7-Day\\\n",
    "FF 30-DAY = Fair Fares 30-Day\n",
    "\n",
    "Based on the field descriptions for the columns, I create a new COMMUTERS column, which includes all student, ADA, and fare reductions for high-value trips or long durations (14-day, monthly, annual). \n",
    "\n",
    "I don't include EZ-pay, bus or rail/train cards except for the Airtrain 30-day, 10-trip and monthly cards. (Those cards are likely used by airport workers.) \n",
    "\n",
    "I also exclude full fare and one- and two-day unlimited cards, as those are more likely used by visitors. "
   ]
  },
  {
   "cell_type": "code",
   "execution_count": 406,
   "id": "6a91ae92",
   "metadata": {},
   "outputs": [
    {
     "name": "stderr",
     "output_type": "stream",
     "text": [
      "/var/folders/_g/0w700wks7s1f9mzvhbcn7vvc0000gn/T/ipykernel_55257/2411711674.py:19: FutureWarning:\n",
      "\n",
      "Dropping of nuisance columns in DataFrame reductions (with 'numeric_only=None') is deprecated; in a future version this will raise TypeError.  Select only valid columns before calling the reduction.\n",
      "\n"
     ]
    },
    {
     "data": {
      "text/plain": [
       "0         86940\n",
       "1         86940\n",
       "2         86940\n",
       "3          4526\n",
       "4         11426\n",
       "          ...  \n",
       "121871    94826\n",
       "121872    74190\n",
       "121873    74190\n",
       "121874     1026\n",
       "121875      711\n",
       "Name: COMMUTERS, Length: 121876, dtype: int64"
      ]
     },
     "execution_count": 406,
     "metadata": {},
     "output_type": "execute_result"
    }
   ],
   "source": [
    "commuters = (['SEN/DIS', \n",
    "             '7-D AFAS UNL', \n",
    "             '30-D AFAS/RMF UNL', \n",
    "             '7-D UNL', \n",
    "             '30-D UNL', \n",
    "             '14-D RFM UNL', \n",
    "             '14-D UNL', \n",
    "             'TCMC', \n",
    "             'TCMC ANNUAL MC', \n",
    "             'AIRTRAIN 30-D', \n",
    "             'AIRTRAIN 10-T', \n",
    "             'AIRTRAIN MTHLY',\n",
    "             'STUDENTS', \n",
    "             'CUNY-120', \n",
    "             'CUNY-60', \n",
    "             'FF VALUE', \n",
    "             'FF 7-DAY', \n",
    "             'FF 30-DAY'])\n",
    "fare_data_df['COMMUTERS'] = fare_data_df[commuters].sum(axis=1)\n",
    "fare_data_df['COMMUTERS']             "
   ]
  },
  {
   "cell_type": "code",
   "execution_count": 407,
   "id": "172ec870",
   "metadata": {},
   "outputs": [
    {
     "data": {
      "text/html": [
       "<div>\n",
       "<style scoped>\n",
       "    .dataframe tbody tr th:only-of-type {\n",
       "        vertical-align: middle;\n",
       "    }\n",
       "\n",
       "    .dataframe tbody tr th {\n",
       "        vertical-align: top;\n",
       "    }\n",
       "\n",
       "    .dataframe thead th {\n",
       "        text-align: right;\n",
       "    }\n",
       "</style>\n",
       "<table border=\"1\" class=\"dataframe\">\n",
       "  <thead>\n",
       "    <tr style=\"text-align: right;\">\n",
       "      <th></th>\n",
       "      <th>REMOTE</th>\n",
       "      <th>STOP</th>\n",
       "      <th>START_DATE</th>\n",
       "      <th>END_DATE</th>\n",
       "      <th>FF</th>\n",
       "      <th>SEN/DIS</th>\n",
       "      <th>7-D AFAS UNL</th>\n",
       "      <th>30-D AFAS/RMF UNL</th>\n",
       "      <th>JOINT RR TKT</th>\n",
       "      <th>7-D UNL</th>\n",
       "      <th>...</th>\n",
       "      <th>FF VALUE</th>\n",
       "      <th>FF 7-DAY</th>\n",
       "      <th>FF 30-DAY</th>\n",
       "      <th>BOOTH</th>\n",
       "      <th>COMPLEX_ID</th>\n",
       "      <th>STATION</th>\n",
       "      <th>LINE_NAME</th>\n",
       "      <th>DIVISION</th>\n",
       "      <th>TOTAL</th>\n",
       "      <th>COMMUTERS</th>\n",
       "    </tr>\n",
       "  </thead>\n",
       "  <tbody>\n",
       "    <tr>\n",
       "      <th>10551</th>\n",
       "      <td>R111</td>\n",
       "      <td>23RD STREET &amp; 8TH AVENUE</td>\n",
       "      <td>2018-12-22 00:00:00</td>\n",
       "      <td>2018-12-28 00:00:00</td>\n",
       "      <td>29364</td>\n",
       "      <td>3235</td>\n",
       "      <td>278</td>\n",
       "      <td>911</td>\n",
       "      <td>21</td>\n",
       "      <td>16113</td>\n",
       "      <td>...</td>\n",
       "      <td>0</td>\n",
       "      <td>0</td>\n",
       "      <td>0</td>\n",
       "      <td>N075</td>\n",
       "      <td>165.0</td>\n",
       "      <td>23 ST</td>\n",
       "      <td>CE</td>\n",
       "      <td>IND</td>\n",
       "      <td>71175</td>\n",
       "      <td>38969</td>\n",
       "    </tr>\n",
       "    <tr>\n",
       "      <th>10621</th>\n",
       "      <td>R153</td>\n",
       "      <td>UTICA AVE-STUYVESANT AVE</td>\n",
       "      <td>2018-12-22 00:00:00</td>\n",
       "      <td>2018-12-28 00:00:00</td>\n",
       "      <td>22364</td>\n",
       "      <td>1065</td>\n",
       "      <td>356</td>\n",
       "      <td>427</td>\n",
       "      <td>5</td>\n",
       "      <td>20643</td>\n",
       "      <td>...</td>\n",
       "      <td>0</td>\n",
       "      <td>0</td>\n",
       "      <td>0</td>\n",
       "      <td>N120A</td>\n",
       "      <td>181.0</td>\n",
       "      <td>UTICA AVE</td>\n",
       "      <td>AC</td>\n",
       "      <td>IND</td>\n",
       "      <td>62900</td>\n",
       "      <td>39073</td>\n",
       "    </tr>\n",
       "    <tr>\n",
       "      <th>10620</th>\n",
       "      <td>R153</td>\n",
       "      <td>UTICA AVE-STUYVESANT AVE</td>\n",
       "      <td>2018-12-22 00:00:00</td>\n",
       "      <td>2018-12-28 00:00:00</td>\n",
       "      <td>22364</td>\n",
       "      <td>1065</td>\n",
       "      <td>356</td>\n",
       "      <td>427</td>\n",
       "      <td>5</td>\n",
       "      <td>20643</td>\n",
       "      <td>...</td>\n",
       "      <td>0</td>\n",
       "      <td>0</td>\n",
       "      <td>0</td>\n",
       "      <td>N120</td>\n",
       "      <td>181.0</td>\n",
       "      <td>UTICA AVE</td>\n",
       "      <td>AC</td>\n",
       "      <td>IND</td>\n",
       "      <td>62900</td>\n",
       "      <td>39073</td>\n",
       "    </tr>\n",
       "    <tr>\n",
       "      <th>10619</th>\n",
       "      <td>R152</td>\n",
       "      <td>ROCKAWAY PKWY-GLENWOOD RD</td>\n",
       "      <td>2018-12-22 00:00:00</td>\n",
       "      <td>2018-12-28 00:00:00</td>\n",
       "      <td>15195</td>\n",
       "      <td>785</td>\n",
       "      <td>261</td>\n",
       "      <td>413</td>\n",
       "      <td>8</td>\n",
       "      <td>12779</td>\n",
       "      <td>...</td>\n",
       "      <td>0</td>\n",
       "      <td>0</td>\n",
       "      <td>0</td>\n",
       "      <td>H041</td>\n",
       "      <td>138.0</td>\n",
       "      <td>ROCKAWAY PKY</td>\n",
       "      <td>L</td>\n",
       "      <td>BMT</td>\n",
       "      <td>40421</td>\n",
       "      <td>24378</td>\n",
       "    </tr>\n",
       "    <tr>\n",
       "      <th>10618</th>\n",
       "      <td>R151</td>\n",
       "      <td>STILLWELL AVE-CONEY ISLAND</td>\n",
       "      <td>2018-12-22 00:00:00</td>\n",
       "      <td>2018-12-28 00:00:00</td>\n",
       "      <td>18963</td>\n",
       "      <td>1545</td>\n",
       "      <td>268</td>\n",
       "      <td>1150</td>\n",
       "      <td>1</td>\n",
       "      <td>12917</td>\n",
       "      <td>...</td>\n",
       "      <td>0</td>\n",
       "      <td>0</td>\n",
       "      <td>0</td>\n",
       "      <td>G009</td>\n",
       "      <td>58.0</td>\n",
       "      <td>STILLWELL AVE</td>\n",
       "      <td>DFNQ</td>\n",
       "      <td>BMT</td>\n",
       "      <td>49136</td>\n",
       "      <td>29124</td>\n",
       "    </tr>\n",
       "  </tbody>\n",
       "</table>\n",
       "<p>5 rows × 40 columns</p>\n",
       "</div>"
      ],
      "text/plain": [
       "      REMOTE                        STOP           START_DATE  \\\n",
       "10551   R111    23RD STREET & 8TH AVENUE  2018-12-22 00:00:00   \n",
       "10621   R153    UTICA AVE-STUYVESANT AVE  2018-12-22 00:00:00   \n",
       "10620   R153    UTICA AVE-STUYVESANT AVE  2018-12-22 00:00:00   \n",
       "10619   R152   ROCKAWAY PKWY-GLENWOOD RD  2018-12-22 00:00:00   \n",
       "10618   R151  STILLWELL AVE-CONEY ISLAND  2018-12-22 00:00:00   \n",
       "\n",
       "                  END_DATE     FF  SEN/DIS  7-D AFAS UNL  30-D AFAS/RMF UNL  \\\n",
       "10551  2018-12-28 00:00:00  29364     3235           278                911   \n",
       "10621  2018-12-28 00:00:00  22364     1065           356                427   \n",
       "10620  2018-12-28 00:00:00  22364     1065           356                427   \n",
       "10619  2018-12-28 00:00:00  15195      785           261                413   \n",
       "10618  2018-12-28 00:00:00  18963     1545           268               1150   \n",
       "\n",
       "       JOINT RR TKT  7-D UNL  ...  FF VALUE FF 7-DAY FF 30-DAY  BOOTH  \\\n",
       "10551            21    16113  ...         0        0         0   N075   \n",
       "10621             5    20643  ...         0        0         0  N120A   \n",
       "10620             5    20643  ...         0        0         0   N120   \n",
       "10619             8    12779  ...         0        0         0   H041   \n",
       "10618             1    12917  ...         0        0         0   G009   \n",
       "\n",
       "       COMPLEX_ID        STATION  LINE_NAME  DIVISION  TOTAL  COMMUTERS  \n",
       "10551       165.0          23 ST         CE       IND  71175      38969  \n",
       "10621       181.0      UTICA AVE         AC       IND  62900      39073  \n",
       "10620       181.0      UTICA AVE         AC       IND  62900      39073  \n",
       "10619       138.0   ROCKAWAY PKY          L       BMT  40421      24378  \n",
       "10618        58.0  STILLWELL AVE       DFNQ       BMT  49136      29124  \n",
       "\n",
       "[5 rows x 40 columns]"
      ]
     },
     "execution_count": 407,
     "metadata": {},
     "output_type": "execute_result"
    }
   ],
   "source": [
    "fare_data_df.sort_values(['START_DATE'], inplace = True)\n",
    "fare_data_df.head()"
   ]
  },
  {
   "cell_type": "markdown",
   "id": "0f7d8f79",
   "metadata": {},
   "source": [
    "### Visualizing the commuter percentage at a station\n",
    "\n",
    "Now I take a look at the commuter percentage for one station, to get a visual sense of the pattern from 2019-2021."
   ]
  },
  {
   "cell_type": "code",
   "execution_count": 408,
   "id": "75cbd5bb",
   "metadata": {},
   "outputs": [
    {
     "data": {
      "text/plain": [
       "(119813, 5)"
      ]
     },
     "execution_count": 408,
     "metadata": {},
     "output_type": "execute_result"
    }
   ],
   "source": [
    "commuters_df = (fare_data_df\n",
    "                        .groupby(['BOOTH', 'STATION', 'END_DATE', 'TOTAL', 'COMMUTERS'],as_index=False)\n",
    "                        .TOTAL.first())\n",
    "commuters_df.shape"
   ]
  },
  {
   "cell_type": "markdown",
   "id": "6f0f1902",
   "metadata": {},
   "source": [
    "To get the station totals, I need to aggregate:"
   ]
  },
  {
   "cell_type": "code",
   "execution_count": 409,
   "id": "f2b974cc",
   "metadata": {},
   "outputs": [
    {
     "data": {
      "text/plain": [
       "(60964, 4)"
      ]
     },
     "execution_count": 409,
     "metadata": {},
     "output_type": "execute_result"
    }
   ],
   "source": [
    "station_weekly_totals = (commuters_df\n",
    "                     .groupby(['STATION', 'END_DATE'])\n",
    "                     [['COMMUTERS', 'TOTAL']].sum().reset_index())\n",
    "\n",
    "station_weekly_totals.shape"
   ]
  },
  {
   "cell_type": "markdown",
   "id": "5d60a54e",
   "metadata": {},
   "source": [
    "I then divide the COMMUTERS column by the TOTAL column to get the percentage of likely commuters:"
   ]
  },
  {
   "cell_type": "code",
   "execution_count": 410,
   "id": "10147405",
   "metadata": {},
   "outputs": [
    {
     "data": {
      "text/plain": [
       "(60964, 5)"
      ]
     },
     "execution_count": 410,
     "metadata": {},
     "output_type": "execute_result"
    }
   ],
   "source": [
    "station_weekly_totals['COMMUTER_PERCENT'] = (station_weekly_totals['COMMUTERS']\n",
    "                                 .div(station_weekly_totals['TOTAL']).multiply(100))\n",
    "station_weekly_totals.shape"
   ]
  },
  {
   "cell_type": "markdown",
   "id": "5fc73f65",
   "metadata": {},
   "source": [
    "Now I can plot a station's total swipes and likely commuter percentage over 2019-2021:"
   ]
  },
  {
   "cell_type": "code",
   "execution_count": 416,
   "id": "5bacb364",
   "metadata": {},
   "outputs": [
    {
     "data": {
      "application/vnd.plotly.v1+json": {
       "config": {
        "plotlyServerURL": "https://plot.ly"
       },
       "data": [
        {
         "customdata": [
          [
           46.68688348926546
          ],
          [
           47.84840272989966
          ],
          [
           51.06701642675402
          ],
          [
           51.72674901107954
          ],
          [
           51.55452855418078
          ],
          [
           51.64615463970702
          ],
          [
           52.037853620981835
          ],
          [
           52.30513764622504
          ],
          [
           51.638922896763574
          ],
          [
           52.74837869765423
          ],
          [
           53.21848880606292
          ],
          [
           52.424492381647525
          ],
          [
           52.46311821667642
          ],
          [
           52.9348539657257
          ],
          [
           52.661311750303994
          ],
          [
           53.60719678209931
          ],
          [
           52.67644713237682
          ],
          [
           52.713042329113115
          ],
          [
           53.50789687198324
          ],
          [
           52.94063254944571
          ],
          [
           51.62123683948609
          ],
          [
           51.35295199243989
          ],
          [
           50.24117421454066
          ],
          [
           51.29853959662734
          ],
          [
           51.05100084822129
          ],
          [
           50.659148872348666
          ],
          [
           50.157397399762985
          ],
          [
           48.18408553328559
          ],
          [
           49.60571347273132
          ],
          [
           49.977000531199614
          ],
          [
           49.76846935645191
          ],
          [
           49.18941063869395
          ],
          [
           49.33289527685656
          ],
          [
           49.53823553451386
          ],
          [
           49.68208153225797
          ],
          [
           49.919824573425615
          ],
          [
           49.32410378266873
          ],
          [
           51.52851859779132
          ],
          [
           51.90362122337571
          ],
          [
           51.29638519854809
          ],
          [
           51.63833690718606
          ],
          [
           52.10830129115831
          ],
          [
           50.49916509626095
          ],
          [
           52.12836075368574
          ],
          [
           53.08266950717493
          ],
          [
           51.636064842267196
          ],
          [
           51.30064848439794
          ],
          [
           51.216107967234784
          ],
          [
           48.91057340682633
          ],
          [
           50.38321290602187
          ],
          [
           48.76317248636884
          ],
          [
           47.287910365343166
          ],
          [
           46.68483774237735
          ],
          [
           48.39675212021294
          ],
          [
           51.68558962816018
          ],
          [
           52.24545787658913
          ],
          [
           52.42120523713344
          ],
          [
           53.749864590170205
          ],
          [
           54.41288738541189
          ],
          [
           54.08722140629176
          ],
          [
           53.505205238821006
          ],
          [
           54.78977318639645
          ],
          [
           55.521634816472044
          ],
          [
           57.889271676351605
          ],
          [
           58.537595435969905
          ],
          [
           53.98340445148403
          ],
          [
           53.407294411316045
          ],
          [
           49.93486090888191
          ],
          [
           48.589992927864216
          ],
          [
           46.58960966715085
          ],
          [
           44.90128634029119
          ],
          [
           43.146380039913545
          ],
          [
           41.63799249821755
          ],
          [
           40.11253965379637
          ],
          [
           38.41847636862622
          ],
          [
           36.56501795942141
          ],
          [
           35.9369144284822
          ],
          [
           35.87541539063009
          ],
          [
           36.05648289972385
          ],
          [
           34.701093630361605
          ],
          [
           34.0803547251557
          ],
          [
           34.57248958122108
          ],
          [
           34.79351258546156
          ],
          [
           34.83328384486415
          ],
          [
           35.01020688687026
          ],
          [
           34.32150184423243
          ],
          [
           34.54652652889803
          ],
          [
           34.428547728332056
          ],
          [
           36.28866934000725
          ],
          [
           36.56567138135351
          ],
          [
           38.15795174925485
          ],
          [
           38.67309756724474
          ],
          [
           38.947569817843544
          ],
          [
           39.912366970634146
          ],
          [
           40.154998351555335
          ],
          [
           40.63192652976989
          ],
          [
           40.891216011144564
          ],
          [
           41.533034787269116
          ],
          [
           40.745953990202764
          ],
          [
           41.254512792029715
          ],
          [
           39.95503213093162
          ],
          [
           40.77651388962282
          ],
          [
           40.57065484104111
          ],
          [
           39.969130526099846
          ],
          [
           37.867635072266765
          ],
          [
           36.90084692623007
          ],
          [
           39.772681492224635
          ],
          [
           41.13700881901152
          ],
          [
           41.097487918846596
          ],
          [
           42.22560055321695
          ],
          [
           41.53859884593072
          ],
          [
           40.66439852998551
          ],
          [
           40.64423090256112
          ],
          [
           40.90414066079328
          ],
          [
           41.90225014322685
          ],
          [
           41.50453390034834
          ],
          [
           41.78295586627143
          ],
          [
           41.76453826088863
          ],
          [
           41.61471421697054
          ],
          [
           42.03976231011001
          ],
          [
           42.424255330929725
          ],
          [
           42.27721269764939
          ],
          [
           42.34382545755998
          ],
          [
           42.3038728897716
          ],
          [
           43.049075905819564
          ],
          [
           42.68359473947244
          ],
          [
           42.41072412980091
          ],
          [
           41.98823624829415
          ],
          [
           42.58663003053347
          ],
          [
           41.84291068171863
          ],
          [
           41.657686643190154
          ],
          [
           41.365348412747345
          ],
          [
           41.13812597579804
          ],
          [
           41.50719003904756
          ],
          [
           41.33947731377376
          ],
          [
           41.93845920033121
          ],
          [
           42.43555704165456
          ],
          [
           43.1577354551121
          ],
          [
           43.59306974924457
          ],
          [
           44.49994400612404
          ],
          [
           44.654447525787276
          ],
          [
           42.78665627143672
          ],
          [
           45.41674345315324
          ],
          [
           45.57466822443905
          ],
          [
           46.35762609082899
          ],
          [
           47.208079809453416
          ],
          [
           47.17005402624132
          ],
          [
           47.57974426646847
          ],
          [
           47.71231324482626
          ],
          [
           47.856855824056474
          ],
          [
           47.55249351919182
          ],
          [
           47.80874231164829
          ],
          [
           46.46593928696511
          ],
          [
           48.24682422774001
          ],
          [
           48.617479758073316
          ],
          [
           47.762445688743156
          ],
          [
           49.26266866151332
          ],
          [
           51.3458926356818
          ]
         ],
         "hovertemplate": "variable=COMMUTERS<br>END_DATE=%{x}<br>value=%{y}<br>COMMUTER_PERCENT=%{customdata[0]}<extra></extra>",
         "legendgroup": "COMMUTERS",
         "line": {
          "color": "#636efa",
          "dash": "solid"
         },
         "marker": {
          "symbol": "circle"
         },
         "mode": "lines",
         "name": "COMMUTERS",
         "orientation": "v",
         "showlegend": true,
         "type": "scatter",
         "x": [
          "2018-12-28 00:00:00",
          "2019-01-04 00:00:00",
          "2019-01-11 00:00:00",
          "2019-01-18 00:00:00",
          "2019-01-25 00:00:00",
          "2019-02-01 00:00:00",
          "2019-02-08 00:00:00",
          "2019-02-15 00:00:00",
          "2019-02-22 00:00:00",
          "2019-03-01 00:00:00",
          "2019-03-08 00:00:00",
          "2019-03-15 00:00:00",
          "2019-03-22 00:00:00",
          "2019-03-29 00:00:00",
          "2019-04-05 00:00:00",
          "2019-04-12 00:00:00",
          "2019-04-19 00:00:00",
          "2019-04-26 00:00:00",
          "2019-05-03 00:00:00",
          "2019-05-10 00:00:00",
          "2019-05-17 00:00:00",
          "2019-05-24 00:00:00",
          "2019-05-31 00:00:00",
          "2019-06-07 00:00:00",
          "2019-06-14 00:00:00",
          "2019-06-21 00:00:00",
          "2019-06-28 00:00:00",
          "2019-07-05 00:00:00",
          "2019-07-12 00:00:00",
          "2019-07-19 00:00:00",
          "2019-07-26 00:00:00",
          "2019-08-02 00:00:00",
          "2019-08-09 00:00:00",
          "2019-08-16 00:00:00",
          "2019-08-23 00:00:00",
          "2019-08-30 00:00:00",
          "2019-09-06 00:00:00",
          "2019-09-13 00:00:00",
          "2019-09-20 00:00:00",
          "2019-09-27 00:00:00",
          "2019-10-04 00:00:00",
          "2019-10-11 00:00:00",
          "2019-10-18 00:00:00",
          "2019-10-25 00:00:00",
          "2019-11-01 00:00:00",
          "2019-11-08 00:00:00",
          "2019-11-15 00:00:00",
          "2019-11-22 00:00:00",
          "2019-11-29 00:00:00",
          "2019-12-06 00:00:00",
          "2019-12-13 00:00:00",
          "2019-12-20 00:00:00",
          "2019-12-27 00:00:00",
          "2020-01-03 00:00:00",
          "2020-01-10 00:00:00",
          "2020-01-17 00:00:00",
          "2020-01-24 00:00:00",
          "2020-01-31 00:00:00",
          "2020-02-07 00:00:00",
          "2020-02-14 00:00:00",
          "2020-02-21 00:00:00",
          "2020-02-28 00:00:00",
          "2020-03-06 00:00:00",
          "2020-03-13 00:00:00",
          "2020-03-20 00:00:00",
          "2020-03-27 00:00:00",
          "2020-04-03 00:00:00",
          "2020-04-10 00:00:00",
          "2020-04-17 00:00:00",
          "2020-04-24 00:00:00",
          "2020-05-01 00:00:00",
          "2020-05-08 00:00:00",
          "2020-05-15 00:00:00",
          "2020-05-22 00:00:00",
          "2020-05-29 00:00:00",
          "2020-06-05 00:00:00",
          "2020-06-12 00:00:00",
          "2020-06-19 00:00:00",
          "2020-06-26 00:00:00",
          "2020-07-03 00:00:00",
          "2020-07-10 00:00:00",
          "2020-07-17 00:00:00",
          "2020-07-24 00:00:00",
          "2020-07-31 00:00:00",
          "2020-08-07 00:00:00",
          "2020-08-14 00:00:00",
          "2020-08-21 00:00:00",
          "2020-08-28 00:00:00",
          "2020-09-04 00:00:00",
          "2020-09-11 00:00:00",
          "2020-09-18 00:00:00",
          "2020-09-25 00:00:00",
          "2020-10-02 00:00:00",
          "2020-10-09 00:00:00",
          "2020-10-16 00:00:00",
          "2020-10-23 00:00:00",
          "2020-10-30 00:00:00",
          "2020-11-06 00:00:00",
          "2020-11-13 00:00:00",
          "2020-11-20 00:00:00",
          "2020-11-27 00:00:00",
          "2020-12-04 00:00:00",
          "2020-12-11 00:00:00",
          "2020-12-18 00:00:00",
          "2020-12-25 00:00:00",
          "2021-01-01 00:00:00",
          "2021-01-08 00:00:00",
          "2021-01-15 00:00:00",
          "2021-01-22 00:00:00",
          "2021-01-29 00:00:00",
          "2021-02-05 00:00:00",
          "2021-02-12 00:00:00",
          "2021-02-19 00:00:00",
          "2021-02-26 00:00:00",
          "2021-03-05 00:00:00",
          "2021-03-12 00:00:00",
          "2021-03-19 00:00:00",
          "2021-03-26 00:00:00",
          "2021-04-02 00:00:00",
          "2021-04-09 00:00:00",
          "2021-04-16 00:00:00",
          "2021-04-23 00:00:00",
          "2021-04-30 00:00:00",
          "2021-05-07 00:00:00",
          "2021-05-14 00:00:00",
          "2021-05-21 00:00:00",
          "2021-05-28 00:00:00",
          "2021-06-04 00:00:00",
          "2021-06-11 00:00:00",
          "2021-06-18 00:00:00",
          "2021-06-25 00:00:00",
          "2021-07-02 00:00:00",
          "2021-07-09 00:00:00",
          "2021-07-16 00:00:00",
          "2021-07-23 00:00:00",
          "2021-07-30 00:00:00",
          "2021-08-06 00:00:00",
          "2021-08-13 00:00:00",
          "2021-08-20 00:00:00",
          "2021-08-27 00:00:00",
          "2021-09-03 00:00:00",
          "2021-09-10 00:00:00",
          "2021-09-17 00:00:00",
          "2021-09-24 00:00:00",
          "2021-10-01 00:00:00",
          "2021-10-08 00:00:00",
          "2021-10-15 00:00:00",
          "2021-10-22 00:00:00",
          "2021-10-29 00:00:00",
          "2021-11-05 00:00:00",
          "2021-11-12 00:00:00",
          "2021-11-19 00:00:00",
          "2021-11-26 00:00:00",
          "2021-12-03 00:00:00",
          "2021-12-10 00:00:00",
          "2021-12-17 00:00:00",
          "2021-12-24 00:00:00",
          "2021-12-31 00:00:00"
         ],
         "xaxis": "x",
         "y": [
          1102310,
          1139570,
          1282710,
          1280850,
          1175551,
          1251580,
          1330227,
          1344695,
          1318934,
          1356529,
          1391300,
          1446527,
          1453050,
          1498176,
          1478539,
          1555423,
          1506647,
          1523729,
          1528696,
          1494324,
          1431492,
          1441122,
          1299494,
          1477025,
          1447472,
          1422017,
          1443244,
          1190264,
          1387699,
          1389610,
          1370870,
          1381976,
          1385948,
          1351571,
          1252919,
          1238416,
          1208918,
          1454108,
          1460407,
          1482029,
          1434056,
          1446948,
          1420793,
          1471850,
          1476082,
          1474268,
          1373245,
          1387429,
          1139004,
          1348547,
          1378077,
          1327348,
          1043260,
          1010409,
          1248008,
          1251867,
          1198300,
          1265253,
          1272971,
          1252494,
          1242744,
          1267940,
          1247791,
          1049206,
          353378,
          91341,
          57768,
          45612,
          43972,
          45225,
          47647,
          52104,
          53728,
          59809,
          56275,
          60265,
          69042,
          82587,
          96750,
          96079,
          100687,
          114232,
          113486,
          116138,
          119709,
          122455,
          128321,
          130740,
          141082,
          144592,
          167323,
          179046,
          177102,
          190742,
          180259,
          196882,
          187274,
          185212,
          197133,
          190147,
          155314,
          177481,
          181875,
          163660,
          150990,
          134763,
          157958,
          160415,
          154356,
          153876,
          121009,
          149046,
          146557,
          163383,
          169684,
          180751,
          182256,
          190534,
          194580,
          205450,
          199212,
          214515,
          216573,
          225354,
          232623,
          249390,
          250032,
          238143,
          281461,
          292297,
          297278,
          288508,
          284306,
          309224,
          313815,
          320102,
          319816,
          310882,
          314211,
          290076,
          300787,
          310620,
          367203,
          380332,
          391403,
          404924,
          414371,
          427622,
          418541,
          440642,
          462992,
          462955,
          433839,
          464766,
          507865,
          481263,
          426729,
          391248
         ],
         "yaxis": "y"
        },
        {
         "customdata": [
          [
           46.68688348926546
          ],
          [
           47.84840272989966
          ],
          [
           51.06701642675402
          ],
          [
           51.72674901107954
          ],
          [
           51.55452855418078
          ],
          [
           51.64615463970702
          ],
          [
           52.037853620981835
          ],
          [
           52.30513764622504
          ],
          [
           51.638922896763574
          ],
          [
           52.74837869765423
          ],
          [
           53.21848880606292
          ],
          [
           52.424492381647525
          ],
          [
           52.46311821667642
          ],
          [
           52.9348539657257
          ],
          [
           52.661311750303994
          ],
          [
           53.60719678209931
          ],
          [
           52.67644713237682
          ],
          [
           52.713042329113115
          ],
          [
           53.50789687198324
          ],
          [
           52.94063254944571
          ],
          [
           51.62123683948609
          ],
          [
           51.35295199243989
          ],
          [
           50.24117421454066
          ],
          [
           51.29853959662734
          ],
          [
           51.05100084822129
          ],
          [
           50.659148872348666
          ],
          [
           50.157397399762985
          ],
          [
           48.18408553328559
          ],
          [
           49.60571347273132
          ],
          [
           49.977000531199614
          ],
          [
           49.76846935645191
          ],
          [
           49.18941063869395
          ],
          [
           49.33289527685656
          ],
          [
           49.53823553451386
          ],
          [
           49.68208153225797
          ],
          [
           49.919824573425615
          ],
          [
           49.32410378266873
          ],
          [
           51.52851859779132
          ],
          [
           51.90362122337571
          ],
          [
           51.29638519854809
          ],
          [
           51.63833690718606
          ],
          [
           52.10830129115831
          ],
          [
           50.49916509626095
          ],
          [
           52.12836075368574
          ],
          [
           53.08266950717493
          ],
          [
           51.636064842267196
          ],
          [
           51.30064848439794
          ],
          [
           51.216107967234784
          ],
          [
           48.91057340682633
          ],
          [
           50.38321290602187
          ],
          [
           48.76317248636884
          ],
          [
           47.287910365343166
          ],
          [
           46.68483774237735
          ],
          [
           48.39675212021294
          ],
          [
           51.68558962816018
          ],
          [
           52.24545787658913
          ],
          [
           52.42120523713344
          ],
          [
           53.749864590170205
          ],
          [
           54.41288738541189
          ],
          [
           54.08722140629176
          ],
          [
           53.505205238821006
          ],
          [
           54.78977318639645
          ],
          [
           55.521634816472044
          ],
          [
           57.889271676351605
          ],
          [
           58.537595435969905
          ],
          [
           53.98340445148403
          ],
          [
           53.407294411316045
          ],
          [
           49.93486090888191
          ],
          [
           48.589992927864216
          ],
          [
           46.58960966715085
          ],
          [
           44.90128634029119
          ],
          [
           43.146380039913545
          ],
          [
           41.63799249821755
          ],
          [
           40.11253965379637
          ],
          [
           38.41847636862622
          ],
          [
           36.56501795942141
          ],
          [
           35.9369144284822
          ],
          [
           35.87541539063009
          ],
          [
           36.05648289972385
          ],
          [
           34.701093630361605
          ],
          [
           34.0803547251557
          ],
          [
           34.57248958122108
          ],
          [
           34.79351258546156
          ],
          [
           34.83328384486415
          ],
          [
           35.01020688687026
          ],
          [
           34.32150184423243
          ],
          [
           34.54652652889803
          ],
          [
           34.428547728332056
          ],
          [
           36.28866934000725
          ],
          [
           36.56567138135351
          ],
          [
           38.15795174925485
          ],
          [
           38.67309756724474
          ],
          [
           38.947569817843544
          ],
          [
           39.912366970634146
          ],
          [
           40.154998351555335
          ],
          [
           40.63192652976989
          ],
          [
           40.891216011144564
          ],
          [
           41.533034787269116
          ],
          [
           40.745953990202764
          ],
          [
           41.254512792029715
          ],
          [
           39.95503213093162
          ],
          [
           40.77651388962282
          ],
          [
           40.57065484104111
          ],
          [
           39.969130526099846
          ],
          [
           37.867635072266765
          ],
          [
           36.90084692623007
          ],
          [
           39.772681492224635
          ],
          [
           41.13700881901152
          ],
          [
           41.097487918846596
          ],
          [
           42.22560055321695
          ],
          [
           41.53859884593072
          ],
          [
           40.66439852998551
          ],
          [
           40.64423090256112
          ],
          [
           40.90414066079328
          ],
          [
           41.90225014322685
          ],
          [
           41.50453390034834
          ],
          [
           41.78295586627143
          ],
          [
           41.76453826088863
          ],
          [
           41.61471421697054
          ],
          [
           42.03976231011001
          ],
          [
           42.424255330929725
          ],
          [
           42.27721269764939
          ],
          [
           42.34382545755998
          ],
          [
           42.3038728897716
          ],
          [
           43.049075905819564
          ],
          [
           42.68359473947244
          ],
          [
           42.41072412980091
          ],
          [
           41.98823624829415
          ],
          [
           42.58663003053347
          ],
          [
           41.84291068171863
          ],
          [
           41.657686643190154
          ],
          [
           41.365348412747345
          ],
          [
           41.13812597579804
          ],
          [
           41.50719003904756
          ],
          [
           41.33947731377376
          ],
          [
           41.93845920033121
          ],
          [
           42.43555704165456
          ],
          [
           43.1577354551121
          ],
          [
           43.59306974924457
          ],
          [
           44.49994400612404
          ],
          [
           44.654447525787276
          ],
          [
           42.78665627143672
          ],
          [
           45.41674345315324
          ],
          [
           45.57466822443905
          ],
          [
           46.35762609082899
          ],
          [
           47.208079809453416
          ],
          [
           47.17005402624132
          ],
          [
           47.57974426646847
          ],
          [
           47.71231324482626
          ],
          [
           47.856855824056474
          ],
          [
           47.55249351919182
          ],
          [
           47.80874231164829
          ],
          [
           46.46593928696511
          ],
          [
           48.24682422774001
          ],
          [
           48.617479758073316
          ],
          [
           47.762445688743156
          ],
          [
           49.26266866151332
          ],
          [
           51.3458926356818
          ]
         ],
         "hovertemplate": "variable=TOTAL<br>END_DATE=%{x}<br>value=%{y}<br>COMMUTER_PERCENT=%{customdata[0]}<extra></extra>",
         "legendgroup": "TOTAL",
         "line": {
          "color": "#EF553B",
          "dash": "solid"
         },
         "marker": {
          "symbol": "circle"
         },
         "mode": "lines",
         "name": "TOTAL",
         "orientation": "v",
         "showlegend": true,
         "type": "scatter",
         "x": [
          "2018-12-28 00:00:00",
          "2019-01-04 00:00:00",
          "2019-01-11 00:00:00",
          "2019-01-18 00:00:00",
          "2019-01-25 00:00:00",
          "2019-02-01 00:00:00",
          "2019-02-08 00:00:00",
          "2019-02-15 00:00:00",
          "2019-02-22 00:00:00",
          "2019-03-01 00:00:00",
          "2019-03-08 00:00:00",
          "2019-03-15 00:00:00",
          "2019-03-22 00:00:00",
          "2019-03-29 00:00:00",
          "2019-04-05 00:00:00",
          "2019-04-12 00:00:00",
          "2019-04-19 00:00:00",
          "2019-04-26 00:00:00",
          "2019-05-03 00:00:00",
          "2019-05-10 00:00:00",
          "2019-05-17 00:00:00",
          "2019-05-24 00:00:00",
          "2019-05-31 00:00:00",
          "2019-06-07 00:00:00",
          "2019-06-14 00:00:00",
          "2019-06-21 00:00:00",
          "2019-06-28 00:00:00",
          "2019-07-05 00:00:00",
          "2019-07-12 00:00:00",
          "2019-07-19 00:00:00",
          "2019-07-26 00:00:00",
          "2019-08-02 00:00:00",
          "2019-08-09 00:00:00",
          "2019-08-16 00:00:00",
          "2019-08-23 00:00:00",
          "2019-08-30 00:00:00",
          "2019-09-06 00:00:00",
          "2019-09-13 00:00:00",
          "2019-09-20 00:00:00",
          "2019-09-27 00:00:00",
          "2019-10-04 00:00:00",
          "2019-10-11 00:00:00",
          "2019-10-18 00:00:00",
          "2019-10-25 00:00:00",
          "2019-11-01 00:00:00",
          "2019-11-08 00:00:00",
          "2019-11-15 00:00:00",
          "2019-11-22 00:00:00",
          "2019-11-29 00:00:00",
          "2019-12-06 00:00:00",
          "2019-12-13 00:00:00",
          "2019-12-20 00:00:00",
          "2019-12-27 00:00:00",
          "2020-01-03 00:00:00",
          "2020-01-10 00:00:00",
          "2020-01-17 00:00:00",
          "2020-01-24 00:00:00",
          "2020-01-31 00:00:00",
          "2020-02-07 00:00:00",
          "2020-02-14 00:00:00",
          "2020-02-21 00:00:00",
          "2020-02-28 00:00:00",
          "2020-03-06 00:00:00",
          "2020-03-13 00:00:00",
          "2020-03-20 00:00:00",
          "2020-03-27 00:00:00",
          "2020-04-03 00:00:00",
          "2020-04-10 00:00:00",
          "2020-04-17 00:00:00",
          "2020-04-24 00:00:00",
          "2020-05-01 00:00:00",
          "2020-05-08 00:00:00",
          "2020-05-15 00:00:00",
          "2020-05-22 00:00:00",
          "2020-05-29 00:00:00",
          "2020-06-05 00:00:00",
          "2020-06-12 00:00:00",
          "2020-06-19 00:00:00",
          "2020-06-26 00:00:00",
          "2020-07-03 00:00:00",
          "2020-07-10 00:00:00",
          "2020-07-17 00:00:00",
          "2020-07-24 00:00:00",
          "2020-07-31 00:00:00",
          "2020-08-07 00:00:00",
          "2020-08-14 00:00:00",
          "2020-08-21 00:00:00",
          "2020-08-28 00:00:00",
          "2020-09-04 00:00:00",
          "2020-09-11 00:00:00",
          "2020-09-18 00:00:00",
          "2020-09-25 00:00:00",
          "2020-10-02 00:00:00",
          "2020-10-09 00:00:00",
          "2020-10-16 00:00:00",
          "2020-10-23 00:00:00",
          "2020-10-30 00:00:00",
          "2020-11-06 00:00:00",
          "2020-11-13 00:00:00",
          "2020-11-20 00:00:00",
          "2020-11-27 00:00:00",
          "2020-12-04 00:00:00",
          "2020-12-11 00:00:00",
          "2020-12-18 00:00:00",
          "2020-12-25 00:00:00",
          "2021-01-01 00:00:00",
          "2021-01-08 00:00:00",
          "2021-01-15 00:00:00",
          "2021-01-22 00:00:00",
          "2021-01-29 00:00:00",
          "2021-02-05 00:00:00",
          "2021-02-12 00:00:00",
          "2021-02-19 00:00:00",
          "2021-02-26 00:00:00",
          "2021-03-05 00:00:00",
          "2021-03-12 00:00:00",
          "2021-03-19 00:00:00",
          "2021-03-26 00:00:00",
          "2021-04-02 00:00:00",
          "2021-04-09 00:00:00",
          "2021-04-16 00:00:00",
          "2021-04-23 00:00:00",
          "2021-04-30 00:00:00",
          "2021-05-07 00:00:00",
          "2021-05-14 00:00:00",
          "2021-05-21 00:00:00",
          "2021-05-28 00:00:00",
          "2021-06-04 00:00:00",
          "2021-06-11 00:00:00",
          "2021-06-18 00:00:00",
          "2021-06-25 00:00:00",
          "2021-07-02 00:00:00",
          "2021-07-09 00:00:00",
          "2021-07-16 00:00:00",
          "2021-07-23 00:00:00",
          "2021-07-30 00:00:00",
          "2021-08-06 00:00:00",
          "2021-08-13 00:00:00",
          "2021-08-20 00:00:00",
          "2021-08-27 00:00:00",
          "2021-09-03 00:00:00",
          "2021-09-10 00:00:00",
          "2021-09-17 00:00:00",
          "2021-09-24 00:00:00",
          "2021-10-01 00:00:00",
          "2021-10-08 00:00:00",
          "2021-10-15 00:00:00",
          "2021-10-22 00:00:00",
          "2021-10-29 00:00:00",
          "2021-11-05 00:00:00",
          "2021-11-12 00:00:00",
          "2021-11-19 00:00:00",
          "2021-11-26 00:00:00",
          "2021-12-03 00:00:00",
          "2021-12-10 00:00:00",
          "2021-12-17 00:00:00",
          "2021-12-24 00:00:00",
          "2021-12-31 00:00:00"
         ],
         "xaxis": "x",
         "y": [
          2361070,
          2381626,
          2511817,
          2476185,
          2280209,
          2423375,
          2556268,
          2570866,
          2554147,
          2571698,
          2614317,
          2759258,
          2769660,
          2830226,
          2807638,
          2901519,
          2860191,
          2890611,
          2856954,
          2822641,
          2773068,
          2806308,
          2586512,
          2879273,
          2835345,
          2807029,
          2877430,
          2470243,
          2797458,
          2780499,
          2754495,
          2809499,
          2809379,
          2728339,
          2521873,
          2480810,
          2450968,
          2821948,
          2813690,
          2889149,
          2777115,
          2776809,
          2813498,
          2823511,
          2780723,
          2855113,
          2676857,
          2708970,
          2328748,
          2676580,
          2826061,
          2806950,
          2234687,
          2087762,
          2414615,
          2396126,
          2285907,
          2353965,
          2339466,
          2315693,
          2322660,
          2314191,
          2247396,
          1812436,
          603677,
          169202,
          108165,
          91343,
          90496,
          97071,
          106115,
          120761,
          129036,
          149103,
          146479,
          164816,
          192120,
          230205,
          268329,
          276876,
          295440,
          330413,
          326170,
          333411,
          341926,
          356788,
          371444,
          379743,
          388777,
          395431,
          438501,
          462973,
          454719,
          477902,
          448908,
          484550,
          457981,
          445939,
          483810,
          460912,
          388722,
          435253,
          448292,
          409466,
          398731,
          365203,
          397152,
          389953,
          375585,
          364414,
          291317,
          366527,
          360585,
          399429,
          404952,
          435497,
          436197,
          456210,
          467575,
          488704,
          469571,
          507401,
          511463,
          532703,
          540367,
          584276,
          589549,
          567166,
          660914,
          698558,
          713621,
          697463,
          691101,
          744989,
          759117,
          763266,
          753651,
          720339,
          720782,
          651857,
          673588,
          725974,
          808519,
          834525,
          844312,
          857743,
          878462,
          898748,
          877218,
          920750,
          973644,
          968348,
          933671,
          963309,
          1044614,
          1007618,
          866232,
          761985
         ],
         "yaxis": "y"
        }
       ],
       "layout": {
        "legend": {
         "title": {},
         "tracegroupgap": 0
        },
        "margin": {
         "t": 60
        },
        "template": {
         "data": {
          "bar": [
           {
            "error_x": {
             "color": "#2a3f5f"
            },
            "error_y": {
             "color": "#2a3f5f"
            },
            "marker": {
             "line": {
              "color": "#E5ECF6",
              "width": 0.5
             },
             "pattern": {
              "fillmode": "overlay",
              "size": 10,
              "solidity": 0.2
             }
            },
            "type": "bar"
           }
          ],
          "barpolar": [
           {
            "marker": {
             "line": {
              "color": "#E5ECF6",
              "width": 0.5
             },
             "pattern": {
              "fillmode": "overlay",
              "size": 10,
              "solidity": 0.2
             }
            },
            "type": "barpolar"
           }
          ],
          "carpet": [
           {
            "aaxis": {
             "endlinecolor": "#2a3f5f",
             "gridcolor": "white",
             "linecolor": "white",
             "minorgridcolor": "white",
             "startlinecolor": "#2a3f5f"
            },
            "baxis": {
             "endlinecolor": "#2a3f5f",
             "gridcolor": "white",
             "linecolor": "white",
             "minorgridcolor": "white",
             "startlinecolor": "#2a3f5f"
            },
            "type": "carpet"
           }
          ],
          "choropleth": [
           {
            "colorbar": {
             "outlinewidth": 0,
             "ticks": ""
            },
            "type": "choropleth"
           }
          ],
          "contour": [
           {
            "colorbar": {
             "outlinewidth": 0,
             "ticks": ""
            },
            "colorscale": [
             [
              0,
              "#0d0887"
             ],
             [
              0.1111111111111111,
              "#46039f"
             ],
             [
              0.2222222222222222,
              "#7201a8"
             ],
             [
              0.3333333333333333,
              "#9c179e"
             ],
             [
              0.4444444444444444,
              "#bd3786"
             ],
             [
              0.5555555555555556,
              "#d8576b"
             ],
             [
              0.6666666666666666,
              "#ed7953"
             ],
             [
              0.7777777777777778,
              "#fb9f3a"
             ],
             [
              0.8888888888888888,
              "#fdca26"
             ],
             [
              1,
              "#f0f921"
             ]
            ],
            "type": "contour"
           }
          ],
          "contourcarpet": [
           {
            "colorbar": {
             "outlinewidth": 0,
             "ticks": ""
            },
            "type": "contourcarpet"
           }
          ],
          "heatmap": [
           {
            "colorbar": {
             "outlinewidth": 0,
             "ticks": ""
            },
            "colorscale": [
             [
              0,
              "#0d0887"
             ],
             [
              0.1111111111111111,
              "#46039f"
             ],
             [
              0.2222222222222222,
              "#7201a8"
             ],
             [
              0.3333333333333333,
              "#9c179e"
             ],
             [
              0.4444444444444444,
              "#bd3786"
             ],
             [
              0.5555555555555556,
              "#d8576b"
             ],
             [
              0.6666666666666666,
              "#ed7953"
             ],
             [
              0.7777777777777778,
              "#fb9f3a"
             ],
             [
              0.8888888888888888,
              "#fdca26"
             ],
             [
              1,
              "#f0f921"
             ]
            ],
            "type": "heatmap"
           }
          ],
          "heatmapgl": [
           {
            "colorbar": {
             "outlinewidth": 0,
             "ticks": ""
            },
            "colorscale": [
             [
              0,
              "#0d0887"
             ],
             [
              0.1111111111111111,
              "#46039f"
             ],
             [
              0.2222222222222222,
              "#7201a8"
             ],
             [
              0.3333333333333333,
              "#9c179e"
             ],
             [
              0.4444444444444444,
              "#bd3786"
             ],
             [
              0.5555555555555556,
              "#d8576b"
             ],
             [
              0.6666666666666666,
              "#ed7953"
             ],
             [
              0.7777777777777778,
              "#fb9f3a"
             ],
             [
              0.8888888888888888,
              "#fdca26"
             ],
             [
              1,
              "#f0f921"
             ]
            ],
            "type": "heatmapgl"
           }
          ],
          "histogram": [
           {
            "marker": {
             "pattern": {
              "fillmode": "overlay",
              "size": 10,
              "solidity": 0.2
             }
            },
            "type": "histogram"
           }
          ],
          "histogram2d": [
           {
            "colorbar": {
             "outlinewidth": 0,
             "ticks": ""
            },
            "colorscale": [
             [
              0,
              "#0d0887"
             ],
             [
              0.1111111111111111,
              "#46039f"
             ],
             [
              0.2222222222222222,
              "#7201a8"
             ],
             [
              0.3333333333333333,
              "#9c179e"
             ],
             [
              0.4444444444444444,
              "#bd3786"
             ],
             [
              0.5555555555555556,
              "#d8576b"
             ],
             [
              0.6666666666666666,
              "#ed7953"
             ],
             [
              0.7777777777777778,
              "#fb9f3a"
             ],
             [
              0.8888888888888888,
              "#fdca26"
             ],
             [
              1,
              "#f0f921"
             ]
            ],
            "type": "histogram2d"
           }
          ],
          "histogram2dcontour": [
           {
            "colorbar": {
             "outlinewidth": 0,
             "ticks": ""
            },
            "colorscale": [
             [
              0,
              "#0d0887"
             ],
             [
              0.1111111111111111,
              "#46039f"
             ],
             [
              0.2222222222222222,
              "#7201a8"
             ],
             [
              0.3333333333333333,
              "#9c179e"
             ],
             [
              0.4444444444444444,
              "#bd3786"
             ],
             [
              0.5555555555555556,
              "#d8576b"
             ],
             [
              0.6666666666666666,
              "#ed7953"
             ],
             [
              0.7777777777777778,
              "#fb9f3a"
             ],
             [
              0.8888888888888888,
              "#fdca26"
             ],
             [
              1,
              "#f0f921"
             ]
            ],
            "type": "histogram2dcontour"
           }
          ],
          "mesh3d": [
           {
            "colorbar": {
             "outlinewidth": 0,
             "ticks": ""
            },
            "type": "mesh3d"
           }
          ],
          "parcoords": [
           {
            "line": {
             "colorbar": {
              "outlinewidth": 0,
              "ticks": ""
             }
            },
            "type": "parcoords"
           }
          ],
          "pie": [
           {
            "automargin": true,
            "type": "pie"
           }
          ],
          "scatter": [
           {
            "marker": {
             "colorbar": {
              "outlinewidth": 0,
              "ticks": ""
             }
            },
            "type": "scatter"
           }
          ],
          "scatter3d": [
           {
            "line": {
             "colorbar": {
              "outlinewidth": 0,
              "ticks": ""
             }
            },
            "marker": {
             "colorbar": {
              "outlinewidth": 0,
              "ticks": ""
             }
            },
            "type": "scatter3d"
           }
          ],
          "scattercarpet": [
           {
            "marker": {
             "colorbar": {
              "outlinewidth": 0,
              "ticks": ""
             }
            },
            "type": "scattercarpet"
           }
          ],
          "scattergeo": [
           {
            "marker": {
             "colorbar": {
              "outlinewidth": 0,
              "ticks": ""
             }
            },
            "type": "scattergeo"
           }
          ],
          "scattergl": [
           {
            "marker": {
             "colorbar": {
              "outlinewidth": 0,
              "ticks": ""
             }
            },
            "type": "scattergl"
           }
          ],
          "scattermapbox": [
           {
            "marker": {
             "colorbar": {
              "outlinewidth": 0,
              "ticks": ""
             }
            },
            "type": "scattermapbox"
           }
          ],
          "scatterpolar": [
           {
            "marker": {
             "colorbar": {
              "outlinewidth": 0,
              "ticks": ""
             }
            },
            "type": "scatterpolar"
           }
          ],
          "scatterpolargl": [
           {
            "marker": {
             "colorbar": {
              "outlinewidth": 0,
              "ticks": ""
             }
            },
            "type": "scatterpolargl"
           }
          ],
          "scatterternary": [
           {
            "marker": {
             "colorbar": {
              "outlinewidth": 0,
              "ticks": ""
             }
            },
            "type": "scatterternary"
           }
          ],
          "surface": [
           {
            "colorbar": {
             "outlinewidth": 0,
             "ticks": ""
            },
            "colorscale": [
             [
              0,
              "#0d0887"
             ],
             [
              0.1111111111111111,
              "#46039f"
             ],
             [
              0.2222222222222222,
              "#7201a8"
             ],
             [
              0.3333333333333333,
              "#9c179e"
             ],
             [
              0.4444444444444444,
              "#bd3786"
             ],
             [
              0.5555555555555556,
              "#d8576b"
             ],
             [
              0.6666666666666666,
              "#ed7953"
             ],
             [
              0.7777777777777778,
              "#fb9f3a"
             ],
             [
              0.8888888888888888,
              "#fdca26"
             ],
             [
              1,
              "#f0f921"
             ]
            ],
            "type": "surface"
           }
          ],
          "table": [
           {
            "cells": {
             "fill": {
              "color": "#EBF0F8"
             },
             "line": {
              "color": "white"
             }
            },
            "header": {
             "fill": {
              "color": "#C8D4E3"
             },
             "line": {
              "color": "white"
             }
            },
            "type": "table"
           }
          ]
         },
         "layout": {
          "annotationdefaults": {
           "arrowcolor": "#2a3f5f",
           "arrowhead": 0,
           "arrowwidth": 1
          },
          "autotypenumbers": "strict",
          "coloraxis": {
           "colorbar": {
            "outlinewidth": 0,
            "ticks": ""
           }
          },
          "colorscale": {
           "diverging": [
            [
             0,
             "#8e0152"
            ],
            [
             0.1,
             "#c51b7d"
            ],
            [
             0.2,
             "#de77ae"
            ],
            [
             0.3,
             "#f1b6da"
            ],
            [
             0.4,
             "#fde0ef"
            ],
            [
             0.5,
             "#f7f7f7"
            ],
            [
             0.6,
             "#e6f5d0"
            ],
            [
             0.7,
             "#b8e186"
            ],
            [
             0.8,
             "#7fbc41"
            ],
            [
             0.9,
             "#4d9221"
            ],
            [
             1,
             "#276419"
            ]
           ],
           "sequential": [
            [
             0,
             "#0d0887"
            ],
            [
             0.1111111111111111,
             "#46039f"
            ],
            [
             0.2222222222222222,
             "#7201a8"
            ],
            [
             0.3333333333333333,
             "#9c179e"
            ],
            [
             0.4444444444444444,
             "#bd3786"
            ],
            [
             0.5555555555555556,
             "#d8576b"
            ],
            [
             0.6666666666666666,
             "#ed7953"
            ],
            [
             0.7777777777777778,
             "#fb9f3a"
            ],
            [
             0.8888888888888888,
             "#fdca26"
            ],
            [
             1,
             "#f0f921"
            ]
           ],
           "sequentialminus": [
            [
             0,
             "#0d0887"
            ],
            [
             0.1111111111111111,
             "#46039f"
            ],
            [
             0.2222222222222222,
             "#7201a8"
            ],
            [
             0.3333333333333333,
             "#9c179e"
            ],
            [
             0.4444444444444444,
             "#bd3786"
            ],
            [
             0.5555555555555556,
             "#d8576b"
            ],
            [
             0.6666666666666666,
             "#ed7953"
            ],
            [
             0.7777777777777778,
             "#fb9f3a"
            ],
            [
             0.8888888888888888,
             "#fdca26"
            ],
            [
             1,
             "#f0f921"
            ]
           ]
          },
          "colorway": [
           "#636efa",
           "#EF553B",
           "#00cc96",
           "#ab63fa",
           "#FFA15A",
           "#19d3f3",
           "#FF6692",
           "#B6E880",
           "#FF97FF",
           "#FECB52"
          ],
          "font": {
           "color": "#2a3f5f"
          },
          "geo": {
           "bgcolor": "white",
           "lakecolor": "white",
           "landcolor": "#E5ECF6",
           "showlakes": true,
           "showland": true,
           "subunitcolor": "white"
          },
          "hoverlabel": {
           "align": "left"
          },
          "hovermode": "closest",
          "mapbox": {
           "style": "light"
          },
          "paper_bgcolor": "white",
          "plot_bgcolor": "#E5ECF6",
          "polar": {
           "angularaxis": {
            "gridcolor": "white",
            "linecolor": "white",
            "ticks": ""
           },
           "bgcolor": "#E5ECF6",
           "radialaxis": {
            "gridcolor": "white",
            "linecolor": "white",
            "ticks": ""
           }
          },
          "scene": {
           "xaxis": {
            "backgroundcolor": "#E5ECF6",
            "gridcolor": "white",
            "gridwidth": 2,
            "linecolor": "white",
            "showbackground": true,
            "ticks": "",
            "zerolinecolor": "white"
           },
           "yaxis": {
            "backgroundcolor": "#E5ECF6",
            "gridcolor": "white",
            "gridwidth": 2,
            "linecolor": "white",
            "showbackground": true,
            "ticks": "",
            "zerolinecolor": "white"
           },
           "zaxis": {
            "backgroundcolor": "#E5ECF6",
            "gridcolor": "white",
            "gridwidth": 2,
            "linecolor": "white",
            "showbackground": true,
            "ticks": "",
            "zerolinecolor": "white"
           }
          },
          "shapedefaults": {
           "line": {
            "color": "#2a3f5f"
           }
          },
          "ternary": {
           "aaxis": {
            "gridcolor": "white",
            "linecolor": "white",
            "ticks": ""
           },
           "baxis": {
            "gridcolor": "white",
            "linecolor": "white",
            "ticks": ""
           },
           "bgcolor": "#E5ECF6",
           "caxis": {
            "gridcolor": "white",
            "linecolor": "white",
            "ticks": ""
           }
          },
          "title": {
           "x": 0.05
          },
          "xaxis": {
           "automargin": true,
           "gridcolor": "white",
           "linecolor": "white",
           "ticks": "",
           "title": {
            "standoff": 15
           },
           "zerolinecolor": "white",
           "zerolinewidth": 2
          },
          "yaxis": {
           "automargin": true,
           "gridcolor": "white",
           "linecolor": "white",
           "ticks": "",
           "title": {
            "standoff": 15
           },
           "zerolinecolor": "white",
           "zerolinewidth": 2
          }
         }
        },
        "title": {
         "text": "MTA Ridership at Times Square from 2019-2021"
        },
        "xaxis": {
         "anchor": "y",
         "domain": [
          0,
          1
         ],
         "title": {
          "text": "END_DATE"
         }
        },
        "yaxis": {
         "anchor": "x",
         "domain": [
          0,
          1
         ],
         "title": {
          "text": "value"
         }
        }
       }
      },
      "text/html": [
       "<div>                            <div id=\"761556ff-167e-4b70-8426-679c59c99a17\" class=\"plotly-graph-div\" style=\"height:525px; width:100%;\"></div>            <script type=\"text/javascript\">                require([\"plotly\"], function(Plotly) {                    window.PLOTLYENV=window.PLOTLYENV || {};                                    if (document.getElementById(\"761556ff-167e-4b70-8426-679c59c99a17\")) {                    Plotly.newPlot(                        \"761556ff-167e-4b70-8426-679c59c99a17\",                        [{\"customdata\":[[46.68688348926546],[47.84840272989966],[51.06701642675402],[51.72674901107954],[51.55452855418078],[51.64615463970702],[52.037853620981835],[52.30513764622504],[51.638922896763574],[52.74837869765423],[53.21848880606292],[52.424492381647525],[52.46311821667642],[52.9348539657257],[52.661311750303994],[53.60719678209931],[52.67644713237682],[52.713042329113115],[53.50789687198324],[52.94063254944571],[51.62123683948609],[51.35295199243989],[50.24117421454066],[51.29853959662734],[51.05100084822129],[50.659148872348666],[50.157397399762985],[48.18408553328559],[49.60571347273132],[49.977000531199614],[49.76846935645191],[49.18941063869395],[49.33289527685656],[49.53823553451386],[49.68208153225797],[49.919824573425615],[49.32410378266873],[51.52851859779132],[51.90362122337571],[51.29638519854809],[51.63833690718606],[52.10830129115831],[50.49916509626095],[52.12836075368574],[53.08266950717493],[51.636064842267196],[51.30064848439794],[51.216107967234784],[48.91057340682633],[50.38321290602187],[48.76317248636884],[47.287910365343166],[46.68483774237735],[48.39675212021294],[51.68558962816018],[52.24545787658913],[52.42120523713344],[53.749864590170205],[54.41288738541189],[54.08722140629176],[53.505205238821006],[54.78977318639645],[55.521634816472044],[57.889271676351605],[58.537595435969905],[53.98340445148403],[53.407294411316045],[49.93486090888191],[48.589992927864216],[46.58960966715085],[44.90128634029119],[43.146380039913545],[41.63799249821755],[40.11253965379637],[38.41847636862622],[36.56501795942141],[35.9369144284822],[35.87541539063009],[36.05648289972385],[34.701093630361605],[34.0803547251557],[34.57248958122108],[34.79351258546156],[34.83328384486415],[35.01020688687026],[34.32150184423243],[34.54652652889803],[34.428547728332056],[36.28866934000725],[36.56567138135351],[38.15795174925485],[38.67309756724474],[38.947569817843544],[39.912366970634146],[40.154998351555335],[40.63192652976989],[40.891216011144564],[41.533034787269116],[40.745953990202764],[41.254512792029715],[39.95503213093162],[40.77651388962282],[40.57065484104111],[39.969130526099846],[37.867635072266765],[36.90084692623007],[39.772681492224635],[41.13700881901152],[41.097487918846596],[42.22560055321695],[41.53859884593072],[40.66439852998551],[40.64423090256112],[40.90414066079328],[41.90225014322685],[41.50453390034834],[41.78295586627143],[41.76453826088863],[41.61471421697054],[42.03976231011001],[42.424255330929725],[42.27721269764939],[42.34382545755998],[42.3038728897716],[43.049075905819564],[42.68359473947244],[42.41072412980091],[41.98823624829415],[42.58663003053347],[41.84291068171863],[41.657686643190154],[41.365348412747345],[41.13812597579804],[41.50719003904756],[41.33947731377376],[41.93845920033121],[42.43555704165456],[43.1577354551121],[43.59306974924457],[44.49994400612404],[44.654447525787276],[42.78665627143672],[45.41674345315324],[45.57466822443905],[46.35762609082899],[47.208079809453416],[47.17005402624132],[47.57974426646847],[47.71231324482626],[47.856855824056474],[47.55249351919182],[47.80874231164829],[46.46593928696511],[48.24682422774001],[48.617479758073316],[47.762445688743156],[49.26266866151332],[51.3458926356818]],\"hovertemplate\":\"variable=COMMUTERS<br>END_DATE=%{x}<br>value=%{y}<br>COMMUTER_PERCENT=%{customdata[0]}<extra></extra>\",\"legendgroup\":\"COMMUTERS\",\"line\":{\"color\":\"#636efa\",\"dash\":\"solid\"},\"marker\":{\"symbol\":\"circle\"},\"mode\":\"lines\",\"name\":\"COMMUTERS\",\"orientation\":\"v\",\"showlegend\":true,\"x\":[\"2018-12-28 00:00:00\",\"2019-01-04 00:00:00\",\"2019-01-11 00:00:00\",\"2019-01-18 00:00:00\",\"2019-01-25 00:00:00\",\"2019-02-01 00:00:00\",\"2019-02-08 00:00:00\",\"2019-02-15 00:00:00\",\"2019-02-22 00:00:00\",\"2019-03-01 00:00:00\",\"2019-03-08 00:00:00\",\"2019-03-15 00:00:00\",\"2019-03-22 00:00:00\",\"2019-03-29 00:00:00\",\"2019-04-05 00:00:00\",\"2019-04-12 00:00:00\",\"2019-04-19 00:00:00\",\"2019-04-26 00:00:00\",\"2019-05-03 00:00:00\",\"2019-05-10 00:00:00\",\"2019-05-17 00:00:00\",\"2019-05-24 00:00:00\",\"2019-05-31 00:00:00\",\"2019-06-07 00:00:00\",\"2019-06-14 00:00:00\",\"2019-06-21 00:00:00\",\"2019-06-28 00:00:00\",\"2019-07-05 00:00:00\",\"2019-07-12 00:00:00\",\"2019-07-19 00:00:00\",\"2019-07-26 00:00:00\",\"2019-08-02 00:00:00\",\"2019-08-09 00:00:00\",\"2019-08-16 00:00:00\",\"2019-08-23 00:00:00\",\"2019-08-30 00:00:00\",\"2019-09-06 00:00:00\",\"2019-09-13 00:00:00\",\"2019-09-20 00:00:00\",\"2019-09-27 00:00:00\",\"2019-10-04 00:00:00\",\"2019-10-11 00:00:00\",\"2019-10-18 00:00:00\",\"2019-10-25 00:00:00\",\"2019-11-01 00:00:00\",\"2019-11-08 00:00:00\",\"2019-11-15 00:00:00\",\"2019-11-22 00:00:00\",\"2019-11-29 00:00:00\",\"2019-12-06 00:00:00\",\"2019-12-13 00:00:00\",\"2019-12-20 00:00:00\",\"2019-12-27 00:00:00\",\"2020-01-03 00:00:00\",\"2020-01-10 00:00:00\",\"2020-01-17 00:00:00\",\"2020-01-24 00:00:00\",\"2020-01-31 00:00:00\",\"2020-02-07 00:00:00\",\"2020-02-14 00:00:00\",\"2020-02-21 00:00:00\",\"2020-02-28 00:00:00\",\"2020-03-06 00:00:00\",\"2020-03-13 00:00:00\",\"2020-03-20 00:00:00\",\"2020-03-27 00:00:00\",\"2020-04-03 00:00:00\",\"2020-04-10 00:00:00\",\"2020-04-17 00:00:00\",\"2020-04-24 00:00:00\",\"2020-05-01 00:00:00\",\"2020-05-08 00:00:00\",\"2020-05-15 00:00:00\",\"2020-05-22 00:00:00\",\"2020-05-29 00:00:00\",\"2020-06-05 00:00:00\",\"2020-06-12 00:00:00\",\"2020-06-19 00:00:00\",\"2020-06-26 00:00:00\",\"2020-07-03 00:00:00\",\"2020-07-10 00:00:00\",\"2020-07-17 00:00:00\",\"2020-07-24 00:00:00\",\"2020-07-31 00:00:00\",\"2020-08-07 00:00:00\",\"2020-08-14 00:00:00\",\"2020-08-21 00:00:00\",\"2020-08-28 00:00:00\",\"2020-09-04 00:00:00\",\"2020-09-11 00:00:00\",\"2020-09-18 00:00:00\",\"2020-09-25 00:00:00\",\"2020-10-02 00:00:00\",\"2020-10-09 00:00:00\",\"2020-10-16 00:00:00\",\"2020-10-23 00:00:00\",\"2020-10-30 00:00:00\",\"2020-11-06 00:00:00\",\"2020-11-13 00:00:00\",\"2020-11-20 00:00:00\",\"2020-11-27 00:00:00\",\"2020-12-04 00:00:00\",\"2020-12-11 00:00:00\",\"2020-12-18 00:00:00\",\"2020-12-25 00:00:00\",\"2021-01-01 00:00:00\",\"2021-01-08 00:00:00\",\"2021-01-15 00:00:00\",\"2021-01-22 00:00:00\",\"2021-01-29 00:00:00\",\"2021-02-05 00:00:00\",\"2021-02-12 00:00:00\",\"2021-02-19 00:00:00\",\"2021-02-26 00:00:00\",\"2021-03-05 00:00:00\",\"2021-03-12 00:00:00\",\"2021-03-19 00:00:00\",\"2021-03-26 00:00:00\",\"2021-04-02 00:00:00\",\"2021-04-09 00:00:00\",\"2021-04-16 00:00:00\",\"2021-04-23 00:00:00\",\"2021-04-30 00:00:00\",\"2021-05-07 00:00:00\",\"2021-05-14 00:00:00\",\"2021-05-21 00:00:00\",\"2021-05-28 00:00:00\",\"2021-06-04 00:00:00\",\"2021-06-11 00:00:00\",\"2021-06-18 00:00:00\",\"2021-06-25 00:00:00\",\"2021-07-02 00:00:00\",\"2021-07-09 00:00:00\",\"2021-07-16 00:00:00\",\"2021-07-23 00:00:00\",\"2021-07-30 00:00:00\",\"2021-08-06 00:00:00\",\"2021-08-13 00:00:00\",\"2021-08-20 00:00:00\",\"2021-08-27 00:00:00\",\"2021-09-03 00:00:00\",\"2021-09-10 00:00:00\",\"2021-09-17 00:00:00\",\"2021-09-24 00:00:00\",\"2021-10-01 00:00:00\",\"2021-10-08 00:00:00\",\"2021-10-15 00:00:00\",\"2021-10-22 00:00:00\",\"2021-10-29 00:00:00\",\"2021-11-05 00:00:00\",\"2021-11-12 00:00:00\",\"2021-11-19 00:00:00\",\"2021-11-26 00:00:00\",\"2021-12-03 00:00:00\",\"2021-12-10 00:00:00\",\"2021-12-17 00:00:00\",\"2021-12-24 00:00:00\",\"2021-12-31 00:00:00\"],\"xaxis\":\"x\",\"y\":[1102310,1139570,1282710,1280850,1175551,1251580,1330227,1344695,1318934,1356529,1391300,1446527,1453050,1498176,1478539,1555423,1506647,1523729,1528696,1494324,1431492,1441122,1299494,1477025,1447472,1422017,1443244,1190264,1387699,1389610,1370870,1381976,1385948,1351571,1252919,1238416,1208918,1454108,1460407,1482029,1434056,1446948,1420793,1471850,1476082,1474268,1373245,1387429,1139004,1348547,1378077,1327348,1043260,1010409,1248008,1251867,1198300,1265253,1272971,1252494,1242744,1267940,1247791,1049206,353378,91341,57768,45612,43972,45225,47647,52104,53728,59809,56275,60265,69042,82587,96750,96079,100687,114232,113486,116138,119709,122455,128321,130740,141082,144592,167323,179046,177102,190742,180259,196882,187274,185212,197133,190147,155314,177481,181875,163660,150990,134763,157958,160415,154356,153876,121009,149046,146557,163383,169684,180751,182256,190534,194580,205450,199212,214515,216573,225354,232623,249390,250032,238143,281461,292297,297278,288508,284306,309224,313815,320102,319816,310882,314211,290076,300787,310620,367203,380332,391403,404924,414371,427622,418541,440642,462992,462955,433839,464766,507865,481263,426729,391248],\"yaxis\":\"y\",\"type\":\"scatter\"},{\"customdata\":[[46.68688348926546],[47.84840272989966],[51.06701642675402],[51.72674901107954],[51.55452855418078],[51.64615463970702],[52.037853620981835],[52.30513764622504],[51.638922896763574],[52.74837869765423],[53.21848880606292],[52.424492381647525],[52.46311821667642],[52.9348539657257],[52.661311750303994],[53.60719678209931],[52.67644713237682],[52.713042329113115],[53.50789687198324],[52.94063254944571],[51.62123683948609],[51.35295199243989],[50.24117421454066],[51.29853959662734],[51.05100084822129],[50.659148872348666],[50.157397399762985],[48.18408553328559],[49.60571347273132],[49.977000531199614],[49.76846935645191],[49.18941063869395],[49.33289527685656],[49.53823553451386],[49.68208153225797],[49.919824573425615],[49.32410378266873],[51.52851859779132],[51.90362122337571],[51.29638519854809],[51.63833690718606],[52.10830129115831],[50.49916509626095],[52.12836075368574],[53.08266950717493],[51.636064842267196],[51.30064848439794],[51.216107967234784],[48.91057340682633],[50.38321290602187],[48.76317248636884],[47.287910365343166],[46.68483774237735],[48.39675212021294],[51.68558962816018],[52.24545787658913],[52.42120523713344],[53.749864590170205],[54.41288738541189],[54.08722140629176],[53.505205238821006],[54.78977318639645],[55.521634816472044],[57.889271676351605],[58.537595435969905],[53.98340445148403],[53.407294411316045],[49.93486090888191],[48.589992927864216],[46.58960966715085],[44.90128634029119],[43.146380039913545],[41.63799249821755],[40.11253965379637],[38.41847636862622],[36.56501795942141],[35.9369144284822],[35.87541539063009],[36.05648289972385],[34.701093630361605],[34.0803547251557],[34.57248958122108],[34.79351258546156],[34.83328384486415],[35.01020688687026],[34.32150184423243],[34.54652652889803],[34.428547728332056],[36.28866934000725],[36.56567138135351],[38.15795174925485],[38.67309756724474],[38.947569817843544],[39.912366970634146],[40.154998351555335],[40.63192652976989],[40.891216011144564],[41.533034787269116],[40.745953990202764],[41.254512792029715],[39.95503213093162],[40.77651388962282],[40.57065484104111],[39.969130526099846],[37.867635072266765],[36.90084692623007],[39.772681492224635],[41.13700881901152],[41.097487918846596],[42.22560055321695],[41.53859884593072],[40.66439852998551],[40.64423090256112],[40.90414066079328],[41.90225014322685],[41.50453390034834],[41.78295586627143],[41.76453826088863],[41.61471421697054],[42.03976231011001],[42.424255330929725],[42.27721269764939],[42.34382545755998],[42.3038728897716],[43.049075905819564],[42.68359473947244],[42.41072412980091],[41.98823624829415],[42.58663003053347],[41.84291068171863],[41.657686643190154],[41.365348412747345],[41.13812597579804],[41.50719003904756],[41.33947731377376],[41.93845920033121],[42.43555704165456],[43.1577354551121],[43.59306974924457],[44.49994400612404],[44.654447525787276],[42.78665627143672],[45.41674345315324],[45.57466822443905],[46.35762609082899],[47.208079809453416],[47.17005402624132],[47.57974426646847],[47.71231324482626],[47.856855824056474],[47.55249351919182],[47.80874231164829],[46.46593928696511],[48.24682422774001],[48.617479758073316],[47.762445688743156],[49.26266866151332],[51.3458926356818]],\"hovertemplate\":\"variable=TOTAL<br>END_DATE=%{x}<br>value=%{y}<br>COMMUTER_PERCENT=%{customdata[0]}<extra></extra>\",\"legendgroup\":\"TOTAL\",\"line\":{\"color\":\"#EF553B\",\"dash\":\"solid\"},\"marker\":{\"symbol\":\"circle\"},\"mode\":\"lines\",\"name\":\"TOTAL\",\"orientation\":\"v\",\"showlegend\":true,\"x\":[\"2018-12-28 00:00:00\",\"2019-01-04 00:00:00\",\"2019-01-11 00:00:00\",\"2019-01-18 00:00:00\",\"2019-01-25 00:00:00\",\"2019-02-01 00:00:00\",\"2019-02-08 00:00:00\",\"2019-02-15 00:00:00\",\"2019-02-22 00:00:00\",\"2019-03-01 00:00:00\",\"2019-03-08 00:00:00\",\"2019-03-15 00:00:00\",\"2019-03-22 00:00:00\",\"2019-03-29 00:00:00\",\"2019-04-05 00:00:00\",\"2019-04-12 00:00:00\",\"2019-04-19 00:00:00\",\"2019-04-26 00:00:00\",\"2019-05-03 00:00:00\",\"2019-05-10 00:00:00\",\"2019-05-17 00:00:00\",\"2019-05-24 00:00:00\",\"2019-05-31 00:00:00\",\"2019-06-07 00:00:00\",\"2019-06-14 00:00:00\",\"2019-06-21 00:00:00\",\"2019-06-28 00:00:00\",\"2019-07-05 00:00:00\",\"2019-07-12 00:00:00\",\"2019-07-19 00:00:00\",\"2019-07-26 00:00:00\",\"2019-08-02 00:00:00\",\"2019-08-09 00:00:00\",\"2019-08-16 00:00:00\",\"2019-08-23 00:00:00\",\"2019-08-30 00:00:00\",\"2019-09-06 00:00:00\",\"2019-09-13 00:00:00\",\"2019-09-20 00:00:00\",\"2019-09-27 00:00:00\",\"2019-10-04 00:00:00\",\"2019-10-11 00:00:00\",\"2019-10-18 00:00:00\",\"2019-10-25 00:00:00\",\"2019-11-01 00:00:00\",\"2019-11-08 00:00:00\",\"2019-11-15 00:00:00\",\"2019-11-22 00:00:00\",\"2019-11-29 00:00:00\",\"2019-12-06 00:00:00\",\"2019-12-13 00:00:00\",\"2019-12-20 00:00:00\",\"2019-12-27 00:00:00\",\"2020-01-03 00:00:00\",\"2020-01-10 00:00:00\",\"2020-01-17 00:00:00\",\"2020-01-24 00:00:00\",\"2020-01-31 00:00:00\",\"2020-02-07 00:00:00\",\"2020-02-14 00:00:00\",\"2020-02-21 00:00:00\",\"2020-02-28 00:00:00\",\"2020-03-06 00:00:00\",\"2020-03-13 00:00:00\",\"2020-03-20 00:00:00\",\"2020-03-27 00:00:00\",\"2020-04-03 00:00:00\",\"2020-04-10 00:00:00\",\"2020-04-17 00:00:00\",\"2020-04-24 00:00:00\",\"2020-05-01 00:00:00\",\"2020-05-08 00:00:00\",\"2020-05-15 00:00:00\",\"2020-05-22 00:00:00\",\"2020-05-29 00:00:00\",\"2020-06-05 00:00:00\",\"2020-06-12 00:00:00\",\"2020-06-19 00:00:00\",\"2020-06-26 00:00:00\",\"2020-07-03 00:00:00\",\"2020-07-10 00:00:00\",\"2020-07-17 00:00:00\",\"2020-07-24 00:00:00\",\"2020-07-31 00:00:00\",\"2020-08-07 00:00:00\",\"2020-08-14 00:00:00\",\"2020-08-21 00:00:00\",\"2020-08-28 00:00:00\",\"2020-09-04 00:00:00\",\"2020-09-11 00:00:00\",\"2020-09-18 00:00:00\",\"2020-09-25 00:00:00\",\"2020-10-02 00:00:00\",\"2020-10-09 00:00:00\",\"2020-10-16 00:00:00\",\"2020-10-23 00:00:00\",\"2020-10-30 00:00:00\",\"2020-11-06 00:00:00\",\"2020-11-13 00:00:00\",\"2020-11-20 00:00:00\",\"2020-11-27 00:00:00\",\"2020-12-04 00:00:00\",\"2020-12-11 00:00:00\",\"2020-12-18 00:00:00\",\"2020-12-25 00:00:00\",\"2021-01-01 00:00:00\",\"2021-01-08 00:00:00\",\"2021-01-15 00:00:00\",\"2021-01-22 00:00:00\",\"2021-01-29 00:00:00\",\"2021-02-05 00:00:00\",\"2021-02-12 00:00:00\",\"2021-02-19 00:00:00\",\"2021-02-26 00:00:00\",\"2021-03-05 00:00:00\",\"2021-03-12 00:00:00\",\"2021-03-19 00:00:00\",\"2021-03-26 00:00:00\",\"2021-04-02 00:00:00\",\"2021-04-09 00:00:00\",\"2021-04-16 00:00:00\",\"2021-04-23 00:00:00\",\"2021-04-30 00:00:00\",\"2021-05-07 00:00:00\",\"2021-05-14 00:00:00\",\"2021-05-21 00:00:00\",\"2021-05-28 00:00:00\",\"2021-06-04 00:00:00\",\"2021-06-11 00:00:00\",\"2021-06-18 00:00:00\",\"2021-06-25 00:00:00\",\"2021-07-02 00:00:00\",\"2021-07-09 00:00:00\",\"2021-07-16 00:00:00\",\"2021-07-23 00:00:00\",\"2021-07-30 00:00:00\",\"2021-08-06 00:00:00\",\"2021-08-13 00:00:00\",\"2021-08-20 00:00:00\",\"2021-08-27 00:00:00\",\"2021-09-03 00:00:00\",\"2021-09-10 00:00:00\",\"2021-09-17 00:00:00\",\"2021-09-24 00:00:00\",\"2021-10-01 00:00:00\",\"2021-10-08 00:00:00\",\"2021-10-15 00:00:00\",\"2021-10-22 00:00:00\",\"2021-10-29 00:00:00\",\"2021-11-05 00:00:00\",\"2021-11-12 00:00:00\",\"2021-11-19 00:00:00\",\"2021-11-26 00:00:00\",\"2021-12-03 00:00:00\",\"2021-12-10 00:00:00\",\"2021-12-17 00:00:00\",\"2021-12-24 00:00:00\",\"2021-12-31 00:00:00\"],\"xaxis\":\"x\",\"y\":[2361070,2381626,2511817,2476185,2280209,2423375,2556268,2570866,2554147,2571698,2614317,2759258,2769660,2830226,2807638,2901519,2860191,2890611,2856954,2822641,2773068,2806308,2586512,2879273,2835345,2807029,2877430,2470243,2797458,2780499,2754495,2809499,2809379,2728339,2521873,2480810,2450968,2821948,2813690,2889149,2777115,2776809,2813498,2823511,2780723,2855113,2676857,2708970,2328748,2676580,2826061,2806950,2234687,2087762,2414615,2396126,2285907,2353965,2339466,2315693,2322660,2314191,2247396,1812436,603677,169202,108165,91343,90496,97071,106115,120761,129036,149103,146479,164816,192120,230205,268329,276876,295440,330413,326170,333411,341926,356788,371444,379743,388777,395431,438501,462973,454719,477902,448908,484550,457981,445939,483810,460912,388722,435253,448292,409466,398731,365203,397152,389953,375585,364414,291317,366527,360585,399429,404952,435497,436197,456210,467575,488704,469571,507401,511463,532703,540367,584276,589549,567166,660914,698558,713621,697463,691101,744989,759117,763266,753651,720339,720782,651857,673588,725974,808519,834525,844312,857743,878462,898748,877218,920750,973644,968348,933671,963309,1044614,1007618,866232,761985],\"yaxis\":\"y\",\"type\":\"scatter\"}],                        {\"template\":{\"data\":{\"bar\":[{\"error_x\":{\"color\":\"#2a3f5f\"},\"error_y\":{\"color\":\"#2a3f5f\"},\"marker\":{\"line\":{\"color\":\"#E5ECF6\",\"width\":0.5},\"pattern\":{\"fillmode\":\"overlay\",\"size\":10,\"solidity\":0.2}},\"type\":\"bar\"}],\"barpolar\":[{\"marker\":{\"line\":{\"color\":\"#E5ECF6\",\"width\":0.5},\"pattern\":{\"fillmode\":\"overlay\",\"size\":10,\"solidity\":0.2}},\"type\":\"barpolar\"}],\"carpet\":[{\"aaxis\":{\"endlinecolor\":\"#2a3f5f\",\"gridcolor\":\"white\",\"linecolor\":\"white\",\"minorgridcolor\":\"white\",\"startlinecolor\":\"#2a3f5f\"},\"baxis\":{\"endlinecolor\":\"#2a3f5f\",\"gridcolor\":\"white\",\"linecolor\":\"white\",\"minorgridcolor\":\"white\",\"startlinecolor\":\"#2a3f5f\"},\"type\":\"carpet\"}],\"choropleth\":[{\"colorbar\":{\"outlinewidth\":0,\"ticks\":\"\"},\"type\":\"choropleth\"}],\"contour\":[{\"colorbar\":{\"outlinewidth\":0,\"ticks\":\"\"},\"colorscale\":[[0.0,\"#0d0887\"],[0.1111111111111111,\"#46039f\"],[0.2222222222222222,\"#7201a8\"],[0.3333333333333333,\"#9c179e\"],[0.4444444444444444,\"#bd3786\"],[0.5555555555555556,\"#d8576b\"],[0.6666666666666666,\"#ed7953\"],[0.7777777777777778,\"#fb9f3a\"],[0.8888888888888888,\"#fdca26\"],[1.0,\"#f0f921\"]],\"type\":\"contour\"}],\"contourcarpet\":[{\"colorbar\":{\"outlinewidth\":0,\"ticks\":\"\"},\"type\":\"contourcarpet\"}],\"heatmap\":[{\"colorbar\":{\"outlinewidth\":0,\"ticks\":\"\"},\"colorscale\":[[0.0,\"#0d0887\"],[0.1111111111111111,\"#46039f\"],[0.2222222222222222,\"#7201a8\"],[0.3333333333333333,\"#9c179e\"],[0.4444444444444444,\"#bd3786\"],[0.5555555555555556,\"#d8576b\"],[0.6666666666666666,\"#ed7953\"],[0.7777777777777778,\"#fb9f3a\"],[0.8888888888888888,\"#fdca26\"],[1.0,\"#f0f921\"]],\"type\":\"heatmap\"}],\"heatmapgl\":[{\"colorbar\":{\"outlinewidth\":0,\"ticks\":\"\"},\"colorscale\":[[0.0,\"#0d0887\"],[0.1111111111111111,\"#46039f\"],[0.2222222222222222,\"#7201a8\"],[0.3333333333333333,\"#9c179e\"],[0.4444444444444444,\"#bd3786\"],[0.5555555555555556,\"#d8576b\"],[0.6666666666666666,\"#ed7953\"],[0.7777777777777778,\"#fb9f3a\"],[0.8888888888888888,\"#fdca26\"],[1.0,\"#f0f921\"]],\"type\":\"heatmapgl\"}],\"histogram\":[{\"marker\":{\"pattern\":{\"fillmode\":\"overlay\",\"size\":10,\"solidity\":0.2}},\"type\":\"histogram\"}],\"histogram2d\":[{\"colorbar\":{\"outlinewidth\":0,\"ticks\":\"\"},\"colorscale\":[[0.0,\"#0d0887\"],[0.1111111111111111,\"#46039f\"],[0.2222222222222222,\"#7201a8\"],[0.3333333333333333,\"#9c179e\"],[0.4444444444444444,\"#bd3786\"],[0.5555555555555556,\"#d8576b\"],[0.6666666666666666,\"#ed7953\"],[0.7777777777777778,\"#fb9f3a\"],[0.8888888888888888,\"#fdca26\"],[1.0,\"#f0f921\"]],\"type\":\"histogram2d\"}],\"histogram2dcontour\":[{\"colorbar\":{\"outlinewidth\":0,\"ticks\":\"\"},\"colorscale\":[[0.0,\"#0d0887\"],[0.1111111111111111,\"#46039f\"],[0.2222222222222222,\"#7201a8\"],[0.3333333333333333,\"#9c179e\"],[0.4444444444444444,\"#bd3786\"],[0.5555555555555556,\"#d8576b\"],[0.6666666666666666,\"#ed7953\"],[0.7777777777777778,\"#fb9f3a\"],[0.8888888888888888,\"#fdca26\"],[1.0,\"#f0f921\"]],\"type\":\"histogram2dcontour\"}],\"mesh3d\":[{\"colorbar\":{\"outlinewidth\":0,\"ticks\":\"\"},\"type\":\"mesh3d\"}],\"parcoords\":[{\"line\":{\"colorbar\":{\"outlinewidth\":0,\"ticks\":\"\"}},\"type\":\"parcoords\"}],\"pie\":[{\"automargin\":true,\"type\":\"pie\"}],\"scatter\":[{\"marker\":{\"colorbar\":{\"outlinewidth\":0,\"ticks\":\"\"}},\"type\":\"scatter\"}],\"scatter3d\":[{\"line\":{\"colorbar\":{\"outlinewidth\":0,\"ticks\":\"\"}},\"marker\":{\"colorbar\":{\"outlinewidth\":0,\"ticks\":\"\"}},\"type\":\"scatter3d\"}],\"scattercarpet\":[{\"marker\":{\"colorbar\":{\"outlinewidth\":0,\"ticks\":\"\"}},\"type\":\"scattercarpet\"}],\"scattergeo\":[{\"marker\":{\"colorbar\":{\"outlinewidth\":0,\"ticks\":\"\"}},\"type\":\"scattergeo\"}],\"scattergl\":[{\"marker\":{\"colorbar\":{\"outlinewidth\":0,\"ticks\":\"\"}},\"type\":\"scattergl\"}],\"scattermapbox\":[{\"marker\":{\"colorbar\":{\"outlinewidth\":0,\"ticks\":\"\"}},\"type\":\"scattermapbox\"}],\"scatterpolar\":[{\"marker\":{\"colorbar\":{\"outlinewidth\":0,\"ticks\":\"\"}},\"type\":\"scatterpolar\"}],\"scatterpolargl\":[{\"marker\":{\"colorbar\":{\"outlinewidth\":0,\"ticks\":\"\"}},\"type\":\"scatterpolargl\"}],\"scatterternary\":[{\"marker\":{\"colorbar\":{\"outlinewidth\":0,\"ticks\":\"\"}},\"type\":\"scatterternary\"}],\"surface\":[{\"colorbar\":{\"outlinewidth\":0,\"ticks\":\"\"},\"colorscale\":[[0.0,\"#0d0887\"],[0.1111111111111111,\"#46039f\"],[0.2222222222222222,\"#7201a8\"],[0.3333333333333333,\"#9c179e\"],[0.4444444444444444,\"#bd3786\"],[0.5555555555555556,\"#d8576b\"],[0.6666666666666666,\"#ed7953\"],[0.7777777777777778,\"#fb9f3a\"],[0.8888888888888888,\"#fdca26\"],[1.0,\"#f0f921\"]],\"type\":\"surface\"}],\"table\":[{\"cells\":{\"fill\":{\"color\":\"#EBF0F8\"},\"line\":{\"color\":\"white\"}},\"header\":{\"fill\":{\"color\":\"#C8D4E3\"},\"line\":{\"color\":\"white\"}},\"type\":\"table\"}]},\"layout\":{\"annotationdefaults\":{\"arrowcolor\":\"#2a3f5f\",\"arrowhead\":0,\"arrowwidth\":1},\"autotypenumbers\":\"strict\",\"coloraxis\":{\"colorbar\":{\"outlinewidth\":0,\"ticks\":\"\"}},\"colorscale\":{\"diverging\":[[0,\"#8e0152\"],[0.1,\"#c51b7d\"],[0.2,\"#de77ae\"],[0.3,\"#f1b6da\"],[0.4,\"#fde0ef\"],[0.5,\"#f7f7f7\"],[0.6,\"#e6f5d0\"],[0.7,\"#b8e186\"],[0.8,\"#7fbc41\"],[0.9,\"#4d9221\"],[1,\"#276419\"]],\"sequential\":[[0.0,\"#0d0887\"],[0.1111111111111111,\"#46039f\"],[0.2222222222222222,\"#7201a8\"],[0.3333333333333333,\"#9c179e\"],[0.4444444444444444,\"#bd3786\"],[0.5555555555555556,\"#d8576b\"],[0.6666666666666666,\"#ed7953\"],[0.7777777777777778,\"#fb9f3a\"],[0.8888888888888888,\"#fdca26\"],[1.0,\"#f0f921\"]],\"sequentialminus\":[[0.0,\"#0d0887\"],[0.1111111111111111,\"#46039f\"],[0.2222222222222222,\"#7201a8\"],[0.3333333333333333,\"#9c179e\"],[0.4444444444444444,\"#bd3786\"],[0.5555555555555556,\"#d8576b\"],[0.6666666666666666,\"#ed7953\"],[0.7777777777777778,\"#fb9f3a\"],[0.8888888888888888,\"#fdca26\"],[1.0,\"#f0f921\"]]},\"colorway\":[\"#636efa\",\"#EF553B\",\"#00cc96\",\"#ab63fa\",\"#FFA15A\",\"#19d3f3\",\"#FF6692\",\"#B6E880\",\"#FF97FF\",\"#FECB52\"],\"font\":{\"color\":\"#2a3f5f\"},\"geo\":{\"bgcolor\":\"white\",\"lakecolor\":\"white\",\"landcolor\":\"#E5ECF6\",\"showlakes\":true,\"showland\":true,\"subunitcolor\":\"white\"},\"hoverlabel\":{\"align\":\"left\"},\"hovermode\":\"closest\",\"mapbox\":{\"style\":\"light\"},\"paper_bgcolor\":\"white\",\"plot_bgcolor\":\"#E5ECF6\",\"polar\":{\"angularaxis\":{\"gridcolor\":\"white\",\"linecolor\":\"white\",\"ticks\":\"\"},\"bgcolor\":\"#E5ECF6\",\"radialaxis\":{\"gridcolor\":\"white\",\"linecolor\":\"white\",\"ticks\":\"\"}},\"scene\":{\"xaxis\":{\"backgroundcolor\":\"#E5ECF6\",\"gridcolor\":\"white\",\"gridwidth\":2,\"linecolor\":\"white\",\"showbackground\":true,\"ticks\":\"\",\"zerolinecolor\":\"white\"},\"yaxis\":{\"backgroundcolor\":\"#E5ECF6\",\"gridcolor\":\"white\",\"gridwidth\":2,\"linecolor\":\"white\",\"showbackground\":true,\"ticks\":\"\",\"zerolinecolor\":\"white\"},\"zaxis\":{\"backgroundcolor\":\"#E5ECF6\",\"gridcolor\":\"white\",\"gridwidth\":2,\"linecolor\":\"white\",\"showbackground\":true,\"ticks\":\"\",\"zerolinecolor\":\"white\"}},\"shapedefaults\":{\"line\":{\"color\":\"#2a3f5f\"}},\"ternary\":{\"aaxis\":{\"gridcolor\":\"white\",\"linecolor\":\"white\",\"ticks\":\"\"},\"baxis\":{\"gridcolor\":\"white\",\"linecolor\":\"white\",\"ticks\":\"\"},\"bgcolor\":\"#E5ECF6\",\"caxis\":{\"gridcolor\":\"white\",\"linecolor\":\"white\",\"ticks\":\"\"}},\"title\":{\"x\":0.05},\"xaxis\":{\"automargin\":true,\"gridcolor\":\"white\",\"linecolor\":\"white\",\"ticks\":\"\",\"title\":{\"standoff\":15},\"zerolinecolor\":\"white\",\"zerolinewidth\":2},\"yaxis\":{\"automargin\":true,\"gridcolor\":\"white\",\"linecolor\":\"white\",\"ticks\":\"\",\"title\":{\"standoff\":15},\"zerolinecolor\":\"white\",\"zerolinewidth\":2}}},\"xaxis\":{\"anchor\":\"y\",\"domain\":[0.0,1.0],\"title\":{\"text\":\"END_DATE\"}},\"yaxis\":{\"anchor\":\"x\",\"domain\":[0.0,1.0],\"title\":{\"text\":\"value\"}},\"legend\":{\"title\":{},\"tracegroupgap\":0},\"margin\":{\"t\":60},\"title\":{\"text\":\"MTA Ridership at Times Square from 2019-2021\"}},                        {\"responsive\": true}                    ).then(function(){\n",
       "                            \n",
       "var gd = document.getElementById('761556ff-167e-4b70-8426-679c59c99a17');\n",
       "var x = new MutationObserver(function (mutations, observer) {{\n",
       "        var display = window.getComputedStyle(gd).display;\n",
       "        if (!display || display === 'none') {{\n",
       "            console.log([gd, 'removed!']);\n",
       "            Plotly.purge(gd);\n",
       "            observer.disconnect();\n",
       "        }}\n",
       "}});\n",
       "\n",
       "// Listen for the removal of the full notebook cells\n",
       "var notebookContainer = gd.closest('#notebook-container');\n",
       "if (notebookContainer) {{\n",
       "    x.observe(notebookContainer, {childList: true});\n",
       "}}\n",
       "\n",
       "// Listen for the clearing of the current output cell\n",
       "var outputEl = gd.closest('.output');\n",
       "if (outputEl) {{\n",
       "    x.observe(outputEl, {childList: true});\n",
       "}}\n",
       "\n",
       "                        })                };                });            </script>        </div>"
      ]
     },
     "metadata": {},
     "output_type": "display_data"
    }
   ],
   "source": [
    "# data\n",
    "commuters_times_sq = (station_weekly_totals[station_weekly_totals['STATION'] == \n",
    "                                             '42 ST-TIMES SQ'].copy()) #using mask to segment df\n",
    "# plot\n",
    "fig = (px.line(commuters_times_sq, \n",
    "               x='END_DATE', \n",
    "               y=commuters_times_sq.columns[2:4], \n",
    "               hover_data=['COMMUTER_PERCENT']))\n",
    "\n",
    "# Change the layout\n",
    "fig.update_layout(title_text='MTA Ridership at Times Square from 2019-2021', \n",
    "                  legend=dict(\n",
    "                      title=None)) \n",
    "fig.show()"
   ]
  },
  {
   "cell_type": "markdown",
   "id": "0953e10b",
   "metadata": {},
   "source": [
    "## Turnstile Data Cleaning\n",
    "\n",
    "To save processing time, I've run a `processing.py` python script on the full dataset from 2019-2021. Below are examples of the methods and functions run on smaller sets of the data. I essentially followed the process outlined in the pair programming exercises."
   ]
  },
  {
   "cell_type": "code",
   "execution_count": 417,
   "id": "50361abe",
   "metadata": {},
   "outputs": [
    {
     "data": {
      "text/html": [
       "<div>\n",
       "<style scoped>\n",
       "    .dataframe tbody tr th:only-of-type {\n",
       "        vertical-align: middle;\n",
       "    }\n",
       "\n",
       "    .dataframe tbody tr th {\n",
       "        vertical-align: top;\n",
       "    }\n",
       "\n",
       "    .dataframe thead th {\n",
       "        text-align: right;\n",
       "    }\n",
       "</style>\n",
       "<table border=\"1\" class=\"dataframe\">\n",
       "  <thead>\n",
       "    <tr style=\"text-align: right;\">\n",
       "      <th></th>\n",
       "      <th>C/A</th>\n",
       "      <th>UNIT</th>\n",
       "      <th>SCP</th>\n",
       "      <th>STATION</th>\n",
       "      <th>LINENAME</th>\n",
       "      <th>DIVISION</th>\n",
       "      <th>DATE</th>\n",
       "      <th>TIME</th>\n",
       "      <th>DESC</th>\n",
       "      <th>ENTRIES</th>\n",
       "      <th>EXITS</th>\n",
       "    </tr>\n",
       "  </thead>\n",
       "  <tbody>\n",
       "    <tr>\n",
       "      <th>0</th>\n",
       "      <td>A002</td>\n",
       "      <td>R051</td>\n",
       "      <td>02-00-00</td>\n",
       "      <td>59 ST</td>\n",
       "      <td>NQR456W</td>\n",
       "      <td>BMT</td>\n",
       "      <td>12/28/2019</td>\n",
       "      <td>03:00:00</td>\n",
       "      <td>REGULAR</td>\n",
       "      <td>7324295</td>\n",
       "      <td>2482512</td>\n",
       "    </tr>\n",
       "    <tr>\n",
       "      <th>1</th>\n",
       "      <td>A002</td>\n",
       "      <td>R051</td>\n",
       "      <td>02-00-00</td>\n",
       "      <td>59 ST</td>\n",
       "      <td>NQR456W</td>\n",
       "      <td>BMT</td>\n",
       "      <td>12/28/2019</td>\n",
       "      <td>07:00:00</td>\n",
       "      <td>REGULAR</td>\n",
       "      <td>7324305</td>\n",
       "      <td>2482523</td>\n",
       "    </tr>\n",
       "    <tr>\n",
       "      <th>2</th>\n",
       "      <td>A002</td>\n",
       "      <td>R051</td>\n",
       "      <td>02-00-00</td>\n",
       "      <td>59 ST</td>\n",
       "      <td>NQR456W</td>\n",
       "      <td>BMT</td>\n",
       "      <td>12/28/2019</td>\n",
       "      <td>11:00:00</td>\n",
       "      <td>REGULAR</td>\n",
       "      <td>7324371</td>\n",
       "      <td>2482594</td>\n",
       "    </tr>\n",
       "    <tr>\n",
       "      <th>3</th>\n",
       "      <td>A002</td>\n",
       "      <td>R051</td>\n",
       "      <td>02-00-00</td>\n",
       "      <td>59 ST</td>\n",
       "      <td>NQR456W</td>\n",
       "      <td>BMT</td>\n",
       "      <td>12/28/2019</td>\n",
       "      <td>15:00:00</td>\n",
       "      <td>REGULAR</td>\n",
       "      <td>7324587</td>\n",
       "      <td>2482647</td>\n",
       "    </tr>\n",
       "    <tr>\n",
       "      <th>4</th>\n",
       "      <td>A002</td>\n",
       "      <td>R051</td>\n",
       "      <td>02-00-00</td>\n",
       "      <td>59 ST</td>\n",
       "      <td>NQR456W</td>\n",
       "      <td>BMT</td>\n",
       "      <td>12/28/2019</td>\n",
       "      <td>19:00:00</td>\n",
       "      <td>REGULAR</td>\n",
       "      <td>7324963</td>\n",
       "      <td>2482713</td>\n",
       "    </tr>\n",
       "  </tbody>\n",
       "</table>\n",
       "</div>"
      ],
      "text/plain": [
       "    C/A  UNIT       SCP STATION LINENAME DIVISION        DATE      TIME  \\\n",
       "0  A002  R051  02-00-00   59 ST  NQR456W      BMT  12/28/2019  03:00:00   \n",
       "1  A002  R051  02-00-00   59 ST  NQR456W      BMT  12/28/2019  07:00:00   \n",
       "2  A002  R051  02-00-00   59 ST  NQR456W      BMT  12/28/2019  11:00:00   \n",
       "3  A002  R051  02-00-00   59 ST  NQR456W      BMT  12/28/2019  15:00:00   \n",
       "4  A002  R051  02-00-00   59 ST  NQR456W      BMT  12/28/2019  19:00:00   \n",
       "\n",
       "      DESC  ENTRIES    EXITS  \n",
       "0  REGULAR  7324295  2482512  \n",
       "1  REGULAR  7324305  2482523  \n",
       "2  REGULAR  7324371  2482594  \n",
       "3  REGULAR  7324587  2482647  \n",
       "4  REGULAR  7324963  2482713  "
      ]
     },
     "execution_count": 417,
     "metadata": {},
     "output_type": "execute_result"
    }
   ],
   "source": [
    "turnstiles_df = pd.read_sql('SELECT * FROM mta_turnstile_data WHERE [DATE] LIKE \"12/%/2019\"', engine)\n",
    "turnstiles_df.head()"
   ]
  },
  {
   "cell_type": "code",
   "execution_count": 418,
   "id": "6f8df4c0",
   "metadata": {},
   "outputs": [],
   "source": [
    "# Create a single datetime column\n",
    "import datetime\n",
    "\n",
    "turnstiles_df['DATE_TIME'] = pd.to_datetime(turnstiles_df.DATE + ' ' + turnstiles_df.TIME, \n",
    "                                            format='%m/%d/%Y %H:%M:%S')"
   ]
  },
  {
   "cell_type": "code",
   "execution_count": 419,
   "id": "ce94bd7d",
   "metadata": {},
   "outputs": [],
   "source": [
    "# Get rid of the duplicate entries \n",
    "turnstiles_df.sort_values(['C/A', 'UNIT', 'SCP', 'STATION', 'DATE_TIME'], \n",
    "                          inplace=True, ascending=False)\n",
    "turnstiles_df.drop_duplicates(subset=['C/A', 'UNIT', 'SCP', 'STATION', 'DATE_TIME'], inplace=True)"
   ]
  },
  {
   "cell_type": "code",
   "execution_count": 422,
   "id": "7331c936",
   "metadata": {},
   "outputs": [
    {
     "data": {
      "text/html": [
       "<div>\n",
       "<style scoped>\n",
       "    .dataframe tbody tr th:only-of-type {\n",
       "        vertical-align: middle;\n",
       "    }\n",
       "\n",
       "    .dataframe tbody tr th {\n",
       "        vertical-align: top;\n",
       "    }\n",
       "\n",
       "    .dataframe thead th {\n",
       "        text-align: right;\n",
       "    }\n",
       "</style>\n",
       "<table border=\"1\" class=\"dataframe\">\n",
       "  <thead>\n",
       "    <tr style=\"text-align: right;\">\n",
       "      <th></th>\n",
       "      <th>C/A</th>\n",
       "      <th>UNIT</th>\n",
       "      <th>SCP</th>\n",
       "      <th>STATION</th>\n",
       "      <th>DATE</th>\n",
       "      <th>ENTRIES</th>\n",
       "    </tr>\n",
       "  </thead>\n",
       "  <tbody>\n",
       "    <tr>\n",
       "      <th>0</th>\n",
       "      <td>A002</td>\n",
       "      <td>R051</td>\n",
       "      <td>02-00-00</td>\n",
       "      <td>59 ST</td>\n",
       "      <td>12/01/2019</td>\n",
       "      <td>7292166</td>\n",
       "    </tr>\n",
       "    <tr>\n",
       "      <th>1</th>\n",
       "      <td>A002</td>\n",
       "      <td>R051</td>\n",
       "      <td>02-00-00</td>\n",
       "      <td>59 ST</td>\n",
       "      <td>12/02/2019</td>\n",
       "      <td>7293554</td>\n",
       "    </tr>\n",
       "    <tr>\n",
       "      <th>2</th>\n",
       "      <td>A002</td>\n",
       "      <td>R051</td>\n",
       "      <td>02-00-00</td>\n",
       "      <td>59 ST</td>\n",
       "      <td>12/03/2019</td>\n",
       "      <td>7295052</td>\n",
       "    </tr>\n",
       "    <tr>\n",
       "      <th>3</th>\n",
       "      <td>A002</td>\n",
       "      <td>R051</td>\n",
       "      <td>02-00-00</td>\n",
       "      <td>59 ST</td>\n",
       "      <td>12/04/2019</td>\n",
       "      <td>7296585</td>\n",
       "    </tr>\n",
       "    <tr>\n",
       "      <th>4</th>\n",
       "      <td>A002</td>\n",
       "      <td>R051</td>\n",
       "      <td>02-00-00</td>\n",
       "      <td>59 ST</td>\n",
       "      <td>12/05/2019</td>\n",
       "      <td>7298288</td>\n",
       "    </tr>\n",
       "  </tbody>\n",
       "</table>\n",
       "</div>"
      ],
      "text/plain": [
       "    C/A  UNIT       SCP STATION        DATE  ENTRIES\n",
       "0  A002  R051  02-00-00   59 ST  12/01/2019  7292166\n",
       "1  A002  R051  02-00-00   59 ST  12/02/2019  7293554\n",
       "2  A002  R051  02-00-00   59 ST  12/03/2019  7295052\n",
       "3  A002  R051  02-00-00   59 ST  12/04/2019  7296585\n",
       "4  A002  R051  02-00-00   59 ST  12/05/2019  7298288"
      ]
     },
     "execution_count": 422,
     "metadata": {},
     "output_type": "execute_result"
    }
   ],
   "source": [
    "# get maximum entries per day per turnstile\n",
    "turnstiles_daily = (turnstiles_df\n",
    "                        .groupby(['C/A', 'UNIT', 'SCP', 'STATION', 'DATE'],as_index=False)\n",
    "                        .ENTRIES.first())\n",
    "turnstiles_daily.head()"
   ]
  },
  {
   "cell_type": "code",
   "execution_count": 423,
   "id": "2dc1cbb9",
   "metadata": {},
   "outputs": [
    {
     "data": {
      "text/html": [
       "<div>\n",
       "<style scoped>\n",
       "    .dataframe tbody tr th:only-of-type {\n",
       "        vertical-align: middle;\n",
       "    }\n",
       "\n",
       "    .dataframe tbody tr th {\n",
       "        vertical-align: top;\n",
       "    }\n",
       "\n",
       "    .dataframe thead th {\n",
       "        text-align: right;\n",
       "    }\n",
       "</style>\n",
       "<table border=\"1\" class=\"dataframe\">\n",
       "  <thead>\n",
       "    <tr style=\"text-align: right;\">\n",
       "      <th></th>\n",
       "      <th>C/A</th>\n",
       "      <th>UNIT</th>\n",
       "      <th>SCP</th>\n",
       "      <th>STATION</th>\n",
       "      <th>DATE</th>\n",
       "      <th>ENTRIES</th>\n",
       "      <th>PREV_DATE</th>\n",
       "      <th>PREV_ENTRIES</th>\n",
       "    </tr>\n",
       "  </thead>\n",
       "  <tbody>\n",
       "    <tr>\n",
       "      <th>0</th>\n",
       "      <td>A002</td>\n",
       "      <td>R051</td>\n",
       "      <td>02-00-00</td>\n",
       "      <td>59 ST</td>\n",
       "      <td>12/01/2019</td>\n",
       "      <td>7292166</td>\n",
       "      <td>NaN</td>\n",
       "      <td>NaN</td>\n",
       "    </tr>\n",
       "    <tr>\n",
       "      <th>1</th>\n",
       "      <td>A002</td>\n",
       "      <td>R051</td>\n",
       "      <td>02-00-00</td>\n",
       "      <td>59 ST</td>\n",
       "      <td>12/02/2019</td>\n",
       "      <td>7293554</td>\n",
       "      <td>12/01/2019</td>\n",
       "      <td>7292166.0</td>\n",
       "    </tr>\n",
       "    <tr>\n",
       "      <th>2</th>\n",
       "      <td>A002</td>\n",
       "      <td>R051</td>\n",
       "      <td>02-00-00</td>\n",
       "      <td>59 ST</td>\n",
       "      <td>12/03/2019</td>\n",
       "      <td>7295052</td>\n",
       "      <td>12/02/2019</td>\n",
       "      <td>7293554.0</td>\n",
       "    </tr>\n",
       "    <tr>\n",
       "      <th>3</th>\n",
       "      <td>A002</td>\n",
       "      <td>R051</td>\n",
       "      <td>02-00-00</td>\n",
       "      <td>59 ST</td>\n",
       "      <td>12/04/2019</td>\n",
       "      <td>7296585</td>\n",
       "      <td>12/03/2019</td>\n",
       "      <td>7295052.0</td>\n",
       "    </tr>\n",
       "    <tr>\n",
       "      <th>4</th>\n",
       "      <td>A002</td>\n",
       "      <td>R051</td>\n",
       "      <td>02-00-00</td>\n",
       "      <td>59 ST</td>\n",
       "      <td>12/05/2019</td>\n",
       "      <td>7298288</td>\n",
       "      <td>12/04/2019</td>\n",
       "      <td>7296585.0</td>\n",
       "    </tr>\n",
       "  </tbody>\n",
       "</table>\n",
       "</div>"
      ],
      "text/plain": [
       "    C/A  UNIT       SCP STATION        DATE  ENTRIES   PREV_DATE  PREV_ENTRIES\n",
       "0  A002  R051  02-00-00   59 ST  12/01/2019  7292166         NaN           NaN\n",
       "1  A002  R051  02-00-00   59 ST  12/02/2019  7293554  12/01/2019     7292166.0\n",
       "2  A002  R051  02-00-00   59 ST  12/03/2019  7295052  12/02/2019     7293554.0\n",
       "3  A002  R051  02-00-00   59 ST  12/04/2019  7296585  12/03/2019     7295052.0\n",
       "4  A002  R051  02-00-00   59 ST  12/05/2019  7298288  12/04/2019     7296585.0"
      ]
     },
     "execution_count": 423,
     "metadata": {},
     "output_type": "execute_result"
    }
   ],
   "source": [
    "# get total entries per day per turnstile                      \n",
    "turnstiles_daily[['PREV_DATE', 'PREV_ENTRIES']] = (turnstiles_daily\n",
    "                                                       .groupby(['C/A', 'UNIT', 'SCP', 'STATION'])[['DATE', 'ENTRIES']]\n",
    "                                                       .shift(1))\n",
    "turnstiles_daily.head()"
   ]
  },
  {
   "cell_type": "code",
   "execution_count": 426,
   "id": "26a5337d",
   "metadata": {},
   "outputs": [
    {
     "data": {
      "text/html": [
       "<div>\n",
       "<style scoped>\n",
       "    .dataframe tbody tr th:only-of-type {\n",
       "        vertical-align: middle;\n",
       "    }\n",
       "\n",
       "    .dataframe tbody tr th {\n",
       "        vertical-align: top;\n",
       "    }\n",
       "\n",
       "    .dataframe thead th {\n",
       "        text-align: right;\n",
       "    }\n",
       "</style>\n",
       "<table border=\"1\" class=\"dataframe\">\n",
       "  <thead>\n",
       "    <tr style=\"text-align: right;\">\n",
       "      <th></th>\n",
       "      <th>C/A</th>\n",
       "      <th>UNIT</th>\n",
       "      <th>SCP</th>\n",
       "      <th>STATION</th>\n",
       "      <th>DATE</th>\n",
       "      <th>ENTRIES</th>\n",
       "      <th>PREV_DATE</th>\n",
       "      <th>PREV_ENTRIES</th>\n",
       "    </tr>\n",
       "  </thead>\n",
       "  <tbody>\n",
       "    <tr>\n",
       "      <th>1</th>\n",
       "      <td>A002</td>\n",
       "      <td>R051</td>\n",
       "      <td>02-00-00</td>\n",
       "      <td>59 ST</td>\n",
       "      <td>12/02/2019</td>\n",
       "      <td>7293554</td>\n",
       "      <td>12/01/2019</td>\n",
       "      <td>7292166.0</td>\n",
       "    </tr>\n",
       "    <tr>\n",
       "      <th>2</th>\n",
       "      <td>A002</td>\n",
       "      <td>R051</td>\n",
       "      <td>02-00-00</td>\n",
       "      <td>59 ST</td>\n",
       "      <td>12/03/2019</td>\n",
       "      <td>7295052</td>\n",
       "      <td>12/02/2019</td>\n",
       "      <td>7293554.0</td>\n",
       "    </tr>\n",
       "    <tr>\n",
       "      <th>3</th>\n",
       "      <td>A002</td>\n",
       "      <td>R051</td>\n",
       "      <td>02-00-00</td>\n",
       "      <td>59 ST</td>\n",
       "      <td>12/04/2019</td>\n",
       "      <td>7296585</td>\n",
       "      <td>12/03/2019</td>\n",
       "      <td>7295052.0</td>\n",
       "    </tr>\n",
       "    <tr>\n",
       "      <th>4</th>\n",
       "      <td>A002</td>\n",
       "      <td>R051</td>\n",
       "      <td>02-00-00</td>\n",
       "      <td>59 ST</td>\n",
       "      <td>12/05/2019</td>\n",
       "      <td>7298288</td>\n",
       "      <td>12/04/2019</td>\n",
       "      <td>7296585.0</td>\n",
       "    </tr>\n",
       "    <tr>\n",
       "      <th>5</th>\n",
       "      <td>A002</td>\n",
       "      <td>R051</td>\n",
       "      <td>02-00-00</td>\n",
       "      <td>59 ST</td>\n",
       "      <td>12/06/2019</td>\n",
       "      <td>7299886</td>\n",
       "      <td>12/05/2019</td>\n",
       "      <td>7298288.0</td>\n",
       "    </tr>\n",
       "  </tbody>\n",
       "</table>\n",
       "</div>"
      ],
      "text/plain": [
       "    C/A  UNIT       SCP STATION        DATE  ENTRIES   PREV_DATE  PREV_ENTRIES\n",
       "1  A002  R051  02-00-00   59 ST  12/02/2019  7293554  12/01/2019     7292166.0\n",
       "2  A002  R051  02-00-00   59 ST  12/03/2019  7295052  12/02/2019     7293554.0\n",
       "3  A002  R051  02-00-00   59 ST  12/04/2019  7296585  12/03/2019     7295052.0\n",
       "4  A002  R051  02-00-00   59 ST  12/05/2019  7298288  12/04/2019     7296585.0\n",
       "5  A002  R051  02-00-00   59 ST  12/06/2019  7299886  12/05/2019     7298288.0"
      ]
     },
     "execution_count": 426,
     "metadata": {},
     "output_type": "execute_result"
    }
   ],
   "source": [
    "# Drop the rows for the earliest date in the df\n",
    "turnstiles_daily.dropna(subset=['PREV_DATE'], axis=0, inplace=True)\n",
    "turnstiles_daily.head()"
   ]
  },
  {
   "cell_type": "markdown",
   "id": "567ab569",
   "metadata": {},
   "source": [
    "for the `get_daily_counts` function, I set the `max counter` value to 20000:"
   ]
  },
  {
   "cell_type": "code",
   "execution_count": 427,
   "id": "0a4518d2",
   "metadata": {},
   "outputs": [
    {
     "name": "stdout",
     "output_type": "stream",
     "text": [
      "ENTRIES: 1091 <-- 130724.0\n",
      "ENTRIES: 459077 <-- 85175465.0\n",
      "ENTRIES: 170526823 <-- 1802952.0\n",
      "ENTRIES: 458753 <-- 0.0\n",
      "ENTRIES: 983284 <-- 27934.0\n",
      "ENTRIES: 582 <-- 3243165.0\n",
      "ENTRIES: 67120006 <-- 292100.0\n",
      "ENTRIES: 271492 <-- 67132807.0\n",
      "ENTRIES: 678 <-- 5270575.0\n",
      "ENTRIES: 394 <-- 79785.0\n",
      "ENTRIES: 36579514 <-- 339421.0\n",
      "ENTRIES: 454 <-- 356766.0\n",
      "ENTRIES: 1378 <-- 377044.0\n",
      "ENTRIES: 1052 <-- 13538231.0\n",
      "ENTRIES: 2526 <-- 6920350.0\n",
      "ENTRIES: 1892 <-- 1060083.0\n",
      "ENTRIES: 1690 <-- 5916160.0\n",
      "ENTRIES: 997 <-- 124114.0\n",
      "ENTRIES: 131144 <-- 1743463.0\n",
      "ENTRIES: 458861 <-- 843546.0\n",
      "ENTRIES: 589824 <-- 866455.0\n",
      "ENTRIES: 249 <-- 91596.0\n",
      "ENTRIES: 193 <-- 22403.0\n",
      "ENTRIES: 1404 <-- 97612.0\n",
      "ENTRIES: 1928 <-- 444626.0\n",
      "ENTRIES: 178 <-- 21346.0\n",
      "ENTRIES: 1196 <-- 116461.0\n",
      "ENTRIES: 76 <-- 43414.0\n",
      "ENTRIES: 41 <-- 40491.0\n",
      "ENTRIES: 2355 <-- 54367.0\n",
      "ENTRIES: 1353 <-- 69354.0\n",
      "ENTRIES: 2598 <-- 73791.0\n",
      "ENTRIES: 80 <-- 385686.0\n",
      "ENTRIES: 2041 <-- 336934.0\n",
      "ENTRIES: 0 <-- 23433.0\n",
      "ENTRIES: 0 <-- 161739.0\n",
      "ENTRIES: 862 <-- 42103.0\n",
      "ENTRIES: 651 <-- 121134.0\n",
      "ENTRIES: 28521 <-- 51365.0\n",
      "ENTRIES: 51383 <-- 28493.0\n",
      "ENTRIES: 154 <-- 13007302.0\n",
      "ENTRIES: 589824 <-- 458752.0\n",
      "ENTRIES: 583 <-- 200806.0\n",
      "ENTRIES: 688 <-- 304878.0\n",
      "ENTRIES: 39 <-- 117527149.0\n",
      "ENTRIES: 1152 <-- 9012539.0\n",
      "ENTRIES: 8 <-- 7436261.0\n",
      "ENTRIES: 1194 <-- 16913394.0\n",
      "ENTRIES: 1103 <-- 8614840.0\n",
      "ENTRIES: 1280 <-- 5249083.0\n",
      "ENTRIES: 1275 <-- 131712.0\n",
      "ENTRIES: 1733 <-- 196092.0\n",
      "ENTRIES: 644 <-- 195971.0\n",
      "ENTRIES: 1489 <-- 13743453.0\n",
      "ENTRIES: 823 <-- 639970321.0\n",
      "ENTRIES: 1748 <-- 7121581.0\n",
      "ENTRIES: 221 <-- 2555037.0\n",
      "ENTRIES: 393317 <-- 96322.0\n",
      "ENTRIES: 458857 <-- 393317.0\n",
      "ENTRIES: 589824 <-- 1395.0\n",
      "ENTRIES: 0 <-- 589824.0\n",
      "ENTRIES: 31 <-- 29355.0\n",
      "ENTRIES: 50 <-- 2171086.0\n",
      "ENTRIES: 2923 <-- 588310.0\n",
      "ENTRIES: 131072 <-- 12.0\n",
      "ENTRIES: 449 <-- 18803425.0\n",
      "ENTRIES: 2788 <-- 1775288.0\n",
      "ENTRIES: 1761654991 <-- 6920518.0\n",
      "ENTRIES: 16804473 <-- 84424.0\n",
      "ENTRIES: 567 <-- 2046736139.0\n",
      "ENTRIES: 1359520865 <-- 139532008.0\n",
      "ENTRIES: 1063 <-- 201458.0\n",
      "ENTRIES: 487 <-- 159529.0\n",
      "ENTRIES: 917510 <-- 1920.0\n",
      "ENTRIES: 1920 <-- 179010.0\n",
      "ENTRIES: 42 <-- 73530.0\n",
      "ENTRIES: 443 <-- 24778.0\n",
      "ENTRIES: 814 <-- 1705161.0\n"
     ]
    }
   ],
   "source": [
    "def get_daily_counts(row, max_counter):\n",
    "    counter = row['ENTRIES'] - row['PREV_ENTRIES']\n",
    "    \n",
    "    if counter < 0:\n",
    "        counter = -counter  # adjust for \"reverse\" counter\n",
    "        \n",
    "    if counter > max_counter:\n",
    "        # Maybe counter was reset, so it may make sense to take the minimum\n",
    "        print(f\"ENTRIES: {row['ENTRIES']} <-- {row['PREV_ENTRIES']}\")\n",
    "        counter = min(row['ENTRIES'], row['PREV_ENTRIES'])\n",
    "        \n",
    "    if counter > max_counter:\n",
    "        # If we still get a counter that is too big, set to zero\n",
    "        return 0\n",
    "    \n",
    "    return counter\n",
    "\n",
    "turnstiles_daily['DAILY_ENTRIES'] = turnstiles_daily.apply(get_daily_counts, axis=1, max_counter=20000)                                                   "
   ]
  },
  {
   "cell_type": "code",
   "execution_count": 428,
   "id": "6c295a8d",
   "metadata": {},
   "outputs": [],
   "source": [
    "#turnstiles_daily.to_sql('mta_turnstiles_daily', engine)"
   ]
  },
  {
   "cell_type": "markdown",
   "id": "90eb9015",
   "metadata": {},
   "source": [
    "## MTA Visualizations"
   ]
  },
  {
   "cell_type": "code",
   "execution_count": 430,
   "id": "8f342d91",
   "metadata": {},
   "outputs": [],
   "source": [
    "#Read in the data for turnstiles\n",
    "turnstiles_2019 = pd.read_sql('SELECT * FROM mta_turnstiles_daily WHERE [DATE] LIKE \"%/2019\"', engine)\n",
    "turnstiles_2021 = pd.read_sql('SELECT * FROM mta_turnstiles_daily WHERE [DATE] LIKE \"%/2021\"', engine)"
   ]
  },
  {
   "cell_type": "markdown",
   "id": "9c4042ee",
   "metadata": {},
   "source": [
    "#### Creating a daily count of entries by station for 2019 and 2021:"
   ]
  },
  {
   "cell_type": "code",
   "execution_count": 431,
   "id": "37347d70",
   "metadata": {},
   "outputs": [],
   "source": [
    "station_daily_2019 = turnstiles_2019.groupby(['STATION', 'DATE'])[['DAILY_ENTRIES']].sum().reset_index()\n",
    "station_daily_2021 = turnstiles_2021.groupby(['STATION', 'DATE'])[['DAILY_ENTRIES']].sum().reset_index()"
   ]
  },
  {
   "cell_type": "code",
   "execution_count": 435,
   "id": "de5903e7",
   "metadata": {},
   "outputs": [
    {
     "data": {
      "text/html": [
       "<div>\n",
       "<style scoped>\n",
       "    .dataframe tbody tr th:only-of-type {\n",
       "        vertical-align: middle;\n",
       "    }\n",
       "\n",
       "    .dataframe tbody tr th {\n",
       "        vertical-align: top;\n",
       "    }\n",
       "\n",
       "    .dataframe thead th {\n",
       "        text-align: right;\n",
       "    }\n",
       "</style>\n",
       "<table border=\"1\" class=\"dataframe\">\n",
       "  <thead>\n",
       "    <tr style=\"text-align: right;\">\n",
       "      <th></th>\n",
       "      <th>STATION</th>\n",
       "      <th>DATE</th>\n",
       "      <th>DAILY_ENTRIES</th>\n",
       "    </tr>\n",
       "  </thead>\n",
       "  <tbody>\n",
       "    <tr>\n",
       "      <th>0</th>\n",
       "      <td>1 AV</td>\n",
       "      <td>01/02/2019</td>\n",
       "      <td>0.0</td>\n",
       "    </tr>\n",
       "    <tr>\n",
       "      <th>1</th>\n",
       "      <td>1 AV</td>\n",
       "      <td>01/03/2019</td>\n",
       "      <td>0.0</td>\n",
       "    </tr>\n",
       "    <tr>\n",
       "      <th>2</th>\n",
       "      <td>1 AV</td>\n",
       "      <td>01/04/2019</td>\n",
       "      <td>0.0</td>\n",
       "    </tr>\n",
       "    <tr>\n",
       "      <th>3</th>\n",
       "      <td>1 AV</td>\n",
       "      <td>01/05/2019</td>\n",
       "      <td>0.0</td>\n",
       "    </tr>\n",
       "    <tr>\n",
       "      <th>4</th>\n",
       "      <td>1 AV</td>\n",
       "      <td>01/06/2019</td>\n",
       "      <td>0.0</td>\n",
       "    </tr>\n",
       "    <tr>\n",
       "      <th>5</th>\n",
       "      <td>1 AV</td>\n",
       "      <td>01/07/2019</td>\n",
       "      <td>0.0</td>\n",
       "    </tr>\n",
       "    <tr>\n",
       "      <th>6</th>\n",
       "      <td>1 AV</td>\n",
       "      <td>01/08/2019</td>\n",
       "      <td>0.0</td>\n",
       "    </tr>\n",
       "    <tr>\n",
       "      <th>7</th>\n",
       "      <td>1 AV</td>\n",
       "      <td>01/09/2019</td>\n",
       "      <td>504.0</td>\n",
       "    </tr>\n",
       "    <tr>\n",
       "      <th>8</th>\n",
       "      <td>1 AV</td>\n",
       "      <td>01/10/2019</td>\n",
       "      <td>531.0</td>\n",
       "    </tr>\n",
       "    <tr>\n",
       "      <th>9</th>\n",
       "      <td>1 AV</td>\n",
       "      <td>01/11/2019</td>\n",
       "      <td>547.0</td>\n",
       "    </tr>\n",
       "    <tr>\n",
       "      <th>10</th>\n",
       "      <td>1 AV</td>\n",
       "      <td>01/12/2019</td>\n",
       "      <td>600.0</td>\n",
       "    </tr>\n",
       "    <tr>\n",
       "      <th>11</th>\n",
       "      <td>1 AV</td>\n",
       "      <td>01/13/2019</td>\n",
       "      <td>648.0</td>\n",
       "    </tr>\n",
       "    <tr>\n",
       "      <th>12</th>\n",
       "      <td>1 AV</td>\n",
       "      <td>01/14/2019</td>\n",
       "      <td>708.0</td>\n",
       "    </tr>\n",
       "    <tr>\n",
       "      <th>13</th>\n",
       "      <td>1 AV</td>\n",
       "      <td>01/15/2019</td>\n",
       "      <td>761.0</td>\n",
       "    </tr>\n",
       "    <tr>\n",
       "      <th>14</th>\n",
       "      <td>1 AV</td>\n",
       "      <td>01/16/2019</td>\n",
       "      <td>807.0</td>\n",
       "    </tr>\n",
       "    <tr>\n",
       "      <th>15</th>\n",
       "      <td>1 AV</td>\n",
       "      <td>01/17/2019</td>\n",
       "      <td>833.0</td>\n",
       "    </tr>\n",
       "    <tr>\n",
       "      <th>16</th>\n",
       "      <td>1 AV</td>\n",
       "      <td>01/18/2019</td>\n",
       "      <td>864.0</td>\n",
       "    </tr>\n",
       "    <tr>\n",
       "      <th>17</th>\n",
       "      <td>1 AV</td>\n",
       "      <td>01/19/2019</td>\n",
       "      <td>884.0</td>\n",
       "    </tr>\n",
       "    <tr>\n",
       "      <th>18</th>\n",
       "      <td>1 AV</td>\n",
       "      <td>01/20/2019</td>\n",
       "      <td>922.0</td>\n",
       "    </tr>\n",
       "    <tr>\n",
       "      <th>19</th>\n",
       "      <td>1 AV</td>\n",
       "      <td>01/21/2019</td>\n",
       "      <td>965.0</td>\n",
       "    </tr>\n",
       "  </tbody>\n",
       "</table>\n",
       "</div>"
      ],
      "text/plain": [
       "   STATION        DATE  DAILY_ENTRIES\n",
       "0     1 AV  01/02/2019            0.0\n",
       "1     1 AV  01/03/2019            0.0\n",
       "2     1 AV  01/04/2019            0.0\n",
       "3     1 AV  01/05/2019            0.0\n",
       "4     1 AV  01/06/2019            0.0\n",
       "5     1 AV  01/07/2019            0.0\n",
       "6     1 AV  01/08/2019            0.0\n",
       "7     1 AV  01/09/2019          504.0\n",
       "8     1 AV  01/10/2019          531.0\n",
       "9     1 AV  01/11/2019          547.0\n",
       "10    1 AV  01/12/2019          600.0\n",
       "11    1 AV  01/13/2019          648.0\n",
       "12    1 AV  01/14/2019          708.0\n",
       "13    1 AV  01/15/2019          761.0\n",
       "14    1 AV  01/16/2019          807.0\n",
       "15    1 AV  01/17/2019          833.0\n",
       "16    1 AV  01/18/2019          864.0\n",
       "17    1 AV  01/19/2019          884.0\n",
       "18    1 AV  01/20/2019          922.0\n",
       "19    1 AV  01/21/2019          965.0"
      ]
     },
     "execution_count": 435,
     "metadata": {},
     "output_type": "execute_result"
    }
   ],
   "source": [
    "station_daily_2019.head(20)"
   ]
  },
  {
   "cell_type": "code",
   "execution_count": 436,
   "id": "82df717f",
   "metadata": {},
   "outputs": [
    {
     "data": {
      "text/html": [
       "<div>\n",
       "<style scoped>\n",
       "    .dataframe tbody tr th:only-of-type {\n",
       "        vertical-align: middle;\n",
       "    }\n",
       "\n",
       "    .dataframe tbody tr th {\n",
       "        vertical-align: top;\n",
       "    }\n",
       "\n",
       "    .dataframe thead th {\n",
       "        text-align: right;\n",
       "    }\n",
       "</style>\n",
       "<table border=\"1\" class=\"dataframe\">\n",
       "  <thead>\n",
       "    <tr style=\"text-align: right;\">\n",
       "      <th></th>\n",
       "      <th>STATION</th>\n",
       "      <th>DATE</th>\n",
       "      <th>DAILY_ENTRIES</th>\n",
       "    </tr>\n",
       "  </thead>\n",
       "  <tbody>\n",
       "    <tr>\n",
       "      <th>0</th>\n",
       "      <td>1 AV</td>\n",
       "      <td>01/01/2021</td>\n",
       "      <td>20612.0</td>\n",
       "    </tr>\n",
       "    <tr>\n",
       "      <th>1</th>\n",
       "      <td>1 AV</td>\n",
       "      <td>01/02/2021</td>\n",
       "      <td>22772.0</td>\n",
       "    </tr>\n",
       "    <tr>\n",
       "      <th>2</th>\n",
       "      <td>1 AV</td>\n",
       "      <td>01/03/2021</td>\n",
       "      <td>23403.0</td>\n",
       "    </tr>\n",
       "    <tr>\n",
       "      <th>3</th>\n",
       "      <td>1 AV</td>\n",
       "      <td>01/04/2021</td>\n",
       "      <td>22795.0</td>\n",
       "    </tr>\n",
       "    <tr>\n",
       "      <th>4</th>\n",
       "      <td>1 AV</td>\n",
       "      <td>01/05/2021</td>\n",
       "      <td>22860.0</td>\n",
       "    </tr>\n",
       "  </tbody>\n",
       "</table>\n",
       "</div>"
      ],
      "text/plain": [
       "  STATION        DATE  DAILY_ENTRIES\n",
       "0    1 AV  01/01/2021        20612.0\n",
       "1    1 AV  01/02/2021        22772.0\n",
       "2    1 AV  01/03/2021        23403.0\n",
       "3    1 AV  01/04/2021        22795.0\n",
       "4    1 AV  01/05/2021        22860.0"
      ]
     },
     "execution_count": 436,
     "metadata": {},
     "output_type": "execute_result"
    }
   ],
   "source": [
    "station_daily_2021.head()"
   ]
  },
  {
   "cell_type": "markdown",
   "id": "1da8e037",
   "metadata": {},
   "source": [
    "#### Sorting by the largest daily entries to get the highest-traffic stations:"
   ]
  },
  {
   "cell_type": "code",
   "execution_count": 437,
   "id": "d87c14ea",
   "metadata": {},
   "outputs": [
    {
     "data": {
      "text/html": [
       "<div>\n",
       "<style scoped>\n",
       "    .dataframe tbody tr th:only-of-type {\n",
       "        vertical-align: middle;\n",
       "    }\n",
       "\n",
       "    .dataframe tbody tr th {\n",
       "        vertical-align: top;\n",
       "    }\n",
       "\n",
       "    .dataframe thead th {\n",
       "        text-align: right;\n",
       "    }\n",
       "</style>\n",
       "<table border=\"1\" class=\"dataframe\">\n",
       "  <thead>\n",
       "    <tr style=\"text-align: right;\">\n",
       "      <th></th>\n",
       "      <th>STATION</th>\n",
       "      <th>DAILY_ENTRIES</th>\n",
       "    </tr>\n",
       "  </thead>\n",
       "  <tbody>\n",
       "    <tr>\n",
       "      <th>315</th>\n",
       "      <td>PATH NEW WTC</td>\n",
       "      <td>60968882.0</td>\n",
       "    </tr>\n",
       "    <tr>\n",
       "      <th>279</th>\n",
       "      <td>METS-WILLETS PT</td>\n",
       "      <td>50180728.0</td>\n",
       "    </tr>\n",
       "    <tr>\n",
       "      <th>300</th>\n",
       "      <td>NEWARK HM HE</td>\n",
       "      <td>39476119.0</td>\n",
       "    </tr>\n",
       "    <tr>\n",
       "      <th>239</th>\n",
       "      <td>HARRISON</td>\n",
       "      <td>38389418.0</td>\n",
       "    </tr>\n",
       "    <tr>\n",
       "      <th>184</th>\n",
       "      <td>CITY / BUS</td>\n",
       "      <td>36288482.0</td>\n",
       "    </tr>\n",
       "  </tbody>\n",
       "</table>\n",
       "</div>"
      ],
      "text/plain": [
       "             STATION  DAILY_ENTRIES\n",
       "315     PATH NEW WTC     60968882.0\n",
       "279  METS-WILLETS PT     50180728.0\n",
       "300     NEWARK HM HE     39476119.0\n",
       "239         HARRISON     38389418.0\n",
       "184       CITY / BUS     36288482.0"
      ]
     },
     "execution_count": 437,
     "metadata": {},
     "output_type": "execute_result"
    }
   ],
   "source": [
    "station_totals_2019 = (station_daily_2019.groupby('STATION')['DAILY_ENTRIES'].sum()\n",
    "    .reset_index()\n",
    "    .sort_values('DAILY_ENTRIES', ascending=False))\n",
    "\n",
    "station_totals_2019.head()"
   ]
  },
  {
   "cell_type": "code",
   "execution_count": 438,
   "id": "3ad04227",
   "metadata": {},
   "outputs": [
    {
     "data": {
      "text/html": [
       "<div>\n",
       "<style scoped>\n",
       "    .dataframe tbody tr th:only-of-type {\n",
       "        vertical-align: middle;\n",
       "    }\n",
       "\n",
       "    .dataframe tbody tr th {\n",
       "        vertical-align: top;\n",
       "    }\n",
       "\n",
       "    .dataframe thead th {\n",
       "        text-align: right;\n",
       "    }\n",
       "</style>\n",
       "<table border=\"1\" class=\"dataframe\">\n",
       "  <thead>\n",
       "    <tr style=\"text-align: right;\">\n",
       "      <th></th>\n",
       "      <th>STATION</th>\n",
       "      <th>DAILY_ENTRIES</th>\n",
       "    </tr>\n",
       "  </thead>\n",
       "  <tbody>\n",
       "    <tr>\n",
       "      <th>233</th>\n",
       "      <td>GRD CNTRL-42 ST</td>\n",
       "      <td>93079248.0</td>\n",
       "    </tr>\n",
       "    <tr>\n",
       "      <th>226</th>\n",
       "      <td>FULTON ST</td>\n",
       "      <td>70975322.0</td>\n",
       "    </tr>\n",
       "    <tr>\n",
       "      <th>315</th>\n",
       "      <td>PATH NEW WTC</td>\n",
       "      <td>64763190.0</td>\n",
       "    </tr>\n",
       "    <tr>\n",
       "      <th>192</th>\n",
       "      <td>CORTLANDT ST</td>\n",
       "      <td>56049976.0</td>\n",
       "    </tr>\n",
       "    <tr>\n",
       "      <th>376</th>\n",
       "      <td>WTC-CORTLANDT</td>\n",
       "      <td>46853862.0</td>\n",
       "    </tr>\n",
       "  </tbody>\n",
       "</table>\n",
       "</div>"
      ],
      "text/plain": [
       "             STATION  DAILY_ENTRIES\n",
       "233  GRD CNTRL-42 ST     93079248.0\n",
       "226        FULTON ST     70975322.0\n",
       "315     PATH NEW WTC     64763190.0\n",
       "192     CORTLANDT ST     56049976.0\n",
       "376    WTC-CORTLANDT     46853862.0"
      ]
     },
     "execution_count": 438,
     "metadata": {},
     "output_type": "execute_result"
    }
   ],
   "source": [
    "station_totals_2021 = (station_daily_2021.groupby('STATION')['DAILY_ENTRIES'].sum()\n",
    "    .reset_index()\n",
    "    .sort_values('DAILY_ENTRIES', ascending=False))\n",
    "\n",
    "station_totals_2021.head()"
   ]
  },
  {
   "cell_type": "markdown",
   "id": "018425e1",
   "metadata": {},
   "source": [
    "#### Computing the percentage with respect to 2019 traffic for 2021:"
   ]
  },
  {
   "cell_type": "code",
   "execution_count": 439,
   "id": "2f78ae6c",
   "metadata": {},
   "outputs": [
    {
     "data": {
      "text/html": [
       "<div>\n",
       "<style scoped>\n",
       "    .dataframe tbody tr th:only-of-type {\n",
       "        vertical-align: middle;\n",
       "    }\n",
       "\n",
       "    .dataframe tbody tr th {\n",
       "        vertical-align: top;\n",
       "    }\n",
       "\n",
       "    .dataframe thead th {\n",
       "        text-align: right;\n",
       "    }\n",
       "</style>\n",
       "<table border=\"1\" class=\"dataframe\">\n",
       "  <thead>\n",
       "    <tr style=\"text-align: right;\">\n",
       "      <th></th>\n",
       "      <th>STATION</th>\n",
       "      <th>DAILY_ENTRIES</th>\n",
       "      <th>CHANGE</th>\n",
       "    </tr>\n",
       "  </thead>\n",
       "  <tbody>\n",
       "    <tr>\n",
       "      <th>233</th>\n",
       "      <td>GRD CNTRL-42 ST</td>\n",
       "      <td>93079248.0</td>\n",
       "      <td>6.467254</td>\n",
       "    </tr>\n",
       "    <tr>\n",
       "      <th>226</th>\n",
       "      <td>FULTON ST</td>\n",
       "      <td>70975322.0</td>\n",
       "      <td>2.000580</td>\n",
       "    </tr>\n",
       "    <tr>\n",
       "      <th>315</th>\n",
       "      <td>PATH NEW WTC</td>\n",
       "      <td>64763190.0</td>\n",
       "      <td>1.062234</td>\n",
       "    </tr>\n",
       "    <tr>\n",
       "      <th>192</th>\n",
       "      <td>CORTLANDT ST</td>\n",
       "      <td>56049976.0</td>\n",
       "      <td>4.156297</td>\n",
       "    </tr>\n",
       "    <tr>\n",
       "      <th>376</th>\n",
       "      <td>WTC-CORTLANDT</td>\n",
       "      <td>46853862.0</td>\n",
       "      <td>2.890587</td>\n",
       "    </tr>\n",
       "  </tbody>\n",
       "</table>\n",
       "</div>"
      ],
      "text/plain": [
       "             STATION  DAILY_ENTRIES    CHANGE\n",
       "233  GRD CNTRL-42 ST     93079248.0  6.467254\n",
       "226        FULTON ST     70975322.0  2.000580\n",
       "315     PATH NEW WTC     64763190.0  1.062234\n",
       "192     CORTLANDT ST     56049976.0  4.156297\n",
       "376    WTC-CORTLANDT     46853862.0  2.890587"
      ]
     },
     "execution_count": 439,
     "metadata": {},
     "output_type": "execute_result"
    }
   ],
   "source": [
    "station_totals_2021['CHANGE'] = (station_totals_2021['DAILY_ENTRIES']\n",
    "                                 .div(station_totals_2019['DAILY_ENTRIES']))\n",
    "#station_totals_2021['CHANGE'] = station_totals_2021['CHANGE'].abs()\n",
    "\n",
    "station_totals_2021.head()"
   ]
  },
  {
   "cell_type": "markdown",
   "id": "0c9eda17",
   "metadata": {},
   "source": [
    "#### Adding a `2019_ENTRIES` column to the dataframe, and sorting by percentage of 2019 traffic:\n",
    "\n",
    "I created the `smallest_change_2021` dataframe in order to select the top 200 stations out of the list of stations that have retained the most traffic from pre-pandemic levels."
   ]
  },
  {
   "cell_type": "code",
   "execution_count": null,
   "id": "91fe764a",
   "metadata": {},
   "outputs": [],
   "source": [
    "station_totals_2021['2019_ENTRIES'] = station_totals_2019['DAILY_ENTRIES']\n",
    "smallest_change_2021 = station_totals_2021.reset_index().sort_values(by=['CHANGE'], ascending = False).head(200)\n",
    "smallest_change_2021.head()"
   ]
  },
  {
   "cell_type": "markdown",
   "id": "a867bd26",
   "metadata": {},
   "source": [
    "#### Finding the stations from the previous list that have the largest total entries:\n",
    "\n",
    "In order to get that sweet spot between total volume and retained volume. I want to be able to recommend a selection of ten stations that the city health department should choose for their newest COVID testing and vaccination stations, so I want high volume but also high traffic retention (which implies larger commuter/local usage)."
   ]
  },
  {
   "cell_type": "code",
   "execution_count": null,
   "id": "7c86fd3e",
   "metadata": {},
   "outputs": [],
   "source": [
    "largest_sorted_2021 = smallest_change_2021.reset_index().sort_values(by=['DAILY_ENTRIES', 'CHANGE'], ascending = False).head(50)\n",
    "largest_sorted_2021.head(10)"
   ]
  },
  {
   "cell_type": "markdown",
   "id": "184a8c4c",
   "metadata": {},
   "source": [
    "#### EXAMPLE: plotting the highest traffic stations from 2019 relative to their 2021 traffic:"
   ]
  },
  {
   "cell_type": "code",
   "execution_count": null,
   "id": "95dae1a8",
   "metadata": {},
   "outputs": [],
   "source": [
    "top_stations=station_totals_2021['station'][:10]\n",
    "\n",
    "fig = go.Figure(data=[\n",
    "    go.Bar(name='2019 Entries', \n",
    "           marker_color='dimgrey', \n",
    "           opacity=0.9, \n",
    "           x=top_stations, \n",
    "           y=station_totals_2021['2019_entries'][:10]),\n",
    "    go.Bar(name='2021 Entries', \n",
    "           marker_color='firebrick', \n",
    "           opacity=0.9, \n",
    "           x=top_stations, \n",
    "           y=station_totals_2021['daily_entries'][:10])\n",
    "])\n",
    "# Change the layout\n",
    "fig.update_layout(title_text='MTA Usage Pre-Pandemic vs. 2021',\n",
    "                   barmode='group',\n",
    "                   hovermode='x unified',\n",
    "                   xaxis_tickangle=75, \n",
    "                   template=\"simple_white\") \n",
    "fig.show()"
   ]
  },
  {
   "cell_type": "markdown",
   "id": "aa2cf8f0",
   "metadata": {},
   "source": [
    "#### By comparison, my analysis shows much higher traffic retention outside of Manhattan"
   ]
  },
  {
   "cell_type": "code",
   "execution_count": null,
   "id": "5c26afaa",
   "metadata": {},
   "outputs": [],
   "source": [
    "top_stations=largest_sorted_2021['station'][:10]\n",
    "\n",
    "fig = go.Figure(data=[\n",
    "    go.Bar(name='2019 Entries', \n",
    "           marker_color='dimgrey', \n",
    "           opacity=0.9, \n",
    "           x=top_stations, \n",
    "           y=largest_sorted_2021['2019_entries'][:10]),\n",
    "    go.Bar(name='2021 Entries', \n",
    "           marker_color='firebrick', \n",
    "           opacity=0.9, \n",
    "           x=top_stations, \n",
    "           y=largest_sorted_2021['daily_entries'][:10])\n",
    "])\n",
    "# Change the layout\n",
    "fig.update_layout(title_text='MTA Usage Pre-Pandemic vs. 2021',\n",
    "                   barmode='group',\n",
    "                   hovermode='x unified',\n",
    "                   xaxis_tickangle=75, \n",
    "                   template=\"simple_white\") \n",
    "fig.show()"
   ]
  }
 ],
 "metadata": {
  "kernelspec": {
   "display_name": "Python [conda env:metis] *",
   "language": "python",
   "name": "conda-env-metis-py"
  },
  "language_info": {
   "codemirror_mode": {
    "name": "ipython",
    "version": 3
   },
   "file_extension": ".py",
   "mimetype": "text/x-python",
   "name": "python",
   "nbconvert_exporter": "python",
   "pygments_lexer": "ipython3",
   "version": "3.9.9"
  }
 },
 "nbformat": 4,
 "nbformat_minor": 5
}
